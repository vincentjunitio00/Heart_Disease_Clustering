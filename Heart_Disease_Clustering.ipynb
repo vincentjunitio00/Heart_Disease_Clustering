{
  "nbformat": 4,
  "nbformat_minor": 0,
  "metadata": {
    "colab": {
      "name": "Heart Disease Clustering.ipynb",
      "provenance": [],
      "collapsed_sections": [],
      "authorship_tag": "ABX9TyOkVXVyR8YjbGl/5I44VfjL",
      "include_colab_link": true
    },
    "kernelspec": {
      "name": "python3",
      "display_name": "Python 3"
    },
    "language_info": {
      "name": "python"
    }
  },
  "cells": [
    {
      "cell_type": "markdown",
      "metadata": {
        "id": "view-in-github",
        "colab_type": "text"
      },
      "source": [
        "<a href=\"https://colab.research.google.com/github/vincentjunitio00/Heart_Disease_Clustering/blob/main/Heart_Disease_Clustering.ipynb\" target=\"_parent\"><img src=\"https://colab.research.google.com/assets/colab-badge.svg\" alt=\"Open In Colab\"/></a>"
      ]
    },
    {
      "cell_type": "markdown",
      "metadata": {
        "id": "8nVgRWUVUFVd"
      },
      "source": [
        "# Import library"
      ]
    },
    {
      "cell_type": "code",
      "metadata": {
        "id": "KX3q8BWJZbrq"
      },
      "source": [
        "import pandas as pd\n",
        "from sklearn.model_selection import train_test_split\n",
        "from sklearn.neighbors import KNeighborsClassifier\n",
        "from sklearn.metrics import confusion_matrix, accuracy_score, recall_score, precision_score\n",
        "from sklearn.tree import DecisionTreeClassifier\n",
        "from sklearn.svm import SVC\n",
        "from sklearn.ensemble import RandomForestClassifier\n",
        "from sklearn.decomposition import PCA\n",
        "from sklearn.cluster import KMeans\n",
        "from sklearn.metrics import classification_report\n",
        "\n",
        "import seaborn as sns\n",
        "import matplotlib.pyplot as plt"
      ],
      "execution_count": 1,
      "outputs": []
    },
    {
      "cell_type": "markdown",
      "metadata": {
        "id": "NOOUpvnZUkN6"
      },
      "source": [
        "# Download data"
      ]
    },
    {
      "cell_type": "code",
      "metadata": {
        "colab": {
          "base_uri": "https://localhost:8080/"
        },
        "id": "8tOsf2Q_upa0",
        "outputId": "acc97734-65e7-4225-b4db-d4e4f02c039c"
      },
      "source": [
        "!git clone https://github.com/vincentjunitio00/Heart_Disease_Clustering"
      ],
      "execution_count": 2,
      "outputs": [
        {
          "output_type": "stream",
          "text": [
            "Cloning into 'Heart_Disease_Clustering'...\n",
            "remote: Enumerating objects: 34, done.\u001b[K\n",
            "remote: Counting objects: 100% (34/34), done.\u001b[K\n",
            "remote: Compressing objects: 100% (32/32), done.\u001b[K\n",
            "remote: Total 34 (delta 10), reused 0 (delta 0), pack-reused 0\u001b[K\n",
            "Unpacking objects: 100% (34/34), done.\n"
          ],
          "name": "stdout"
        }
      ]
    },
    {
      "cell_type": "markdown",
      "metadata": {
        "id": "QUZzRp8fUs52"
      },
      "source": [
        "# Preprocessing the dataset"
      ]
    },
    {
      "cell_type": "markdown",
      "metadata": {
        "id": "1w28VksNUwTN"
      },
      "source": [
        "Each dataset consists of 76 attributes, distributed to 10 rows for each record and seperated with \\n."
      ]
    },
    {
      "cell_type": "code",
      "metadata": {
        "id": "avsrsJiQ9G1q"
      },
      "source": [
        "def preprocessing(file):\n",
        "  '''Preprocess the dataset\n",
        "\n",
        "  Parameter:\n",
        "  file: the path of the dataset\n",
        "\n",
        "  Return:\n",
        "  dataset: the preprocessed dataset\n",
        "  '''\n",
        "\n",
        "  file = open(file, \"r\")\n",
        "\n",
        "  counter = 0     # to point which current processing row\n",
        "  records = ''    # to keep the processed records\n",
        "  dataset = []\n",
        "  for record in file.readlines():\n",
        "    records += record.rstrip('\\n') + ' '\n",
        "    counter += 1\n",
        "    if counter >= 10:\n",
        "      dataset.append(records.rstrip())\n",
        "      records = ''\n",
        "      counter = 0\n",
        "  return dataset"
      ],
      "execution_count": 3,
      "outputs": []
    },
    {
      "cell_type": "code",
      "metadata": {
        "id": "kKX8RR00CvAr"
      },
      "source": [
        "dataset_cleveland = preprocessing('/content/Heart_Disease_Clustering/cleveland.data')\n",
        "dataset_hungarian = preprocessing('/content/Heart_Disease_Clustering/hungarian.data')\n",
        "dataset_longbeach = preprocessing('/content/Heart_Disease_Clustering/long-beach-va.data')\n",
        "dataset_switzer = preprocessing('/content/Heart_Disease_Clustering/switzerland.data')"
      ],
      "execution_count": 4,
      "outputs": []
    },
    {
      "cell_type": "markdown",
      "metadata": {
        "id": "iBbqh2pkV5uZ"
      },
      "source": [
        "# Feature Selection"
      ]
    },
    {
      "cell_type": "markdown",
      "metadata": {
        "id": "1lUQwh1IV9Px"
      },
      "source": [
        "The features below are selected like the proposed paper, except the last feature mentioned in the paper due to its redundant feature with 'painloc' feature."
      ]
    },
    {
      "cell_type": "code",
      "metadata": {
        "id": "MJmkewg3bVA4"
      },
      "source": [
        "used_columns = [0, 2, 3, 40, 17, 15, 4, 50, 11, 9, 37, 31]\n",
        "used_columns_name = {0: 'id', 2: 'age', 3: 'sex', 40: 'slope', 17: 'famhist', 15:'fbs', 4:'painloc', 50: 'thal', 11: 'chol', 9: 'trestbps', 37: 'exang', 31: 'thalach'}"
      ],
      "execution_count": 5,
      "outputs": []
    },
    {
      "cell_type": "markdown",
      "metadata": {
        "id": "mTKIM7FEiwlV"
      },
      "source": [
        "# Data Preparation"
      ]
    },
    {
      "cell_type": "markdown",
      "metadata": {
        "id": "jOpY9ROPWo-V"
      },
      "source": [
        "The dataset repository has the preprocessed version for each dataset. The difference between the preprocessed version and the full version (the path read above) is the preprocessed version has selected several attributes and prepared the 'num' feature. Meanwhile, the proposed paper used different features as the preprocessed version, so feature selection from the full version was conducted. The 'num' feature can be used to perform supervised learning, therefore, the 'num' feature is added to our version."
      ]
    },
    {
      "cell_type": "code",
      "metadata": {
        "id": "rjIOVdwybNRa"
      },
      "source": [
        "df_cleveland = pd.DataFrame([data.split() for data in dataset_cleveland])\n",
        "df_used_cleveland = df_cleveland[used_columns].rename(columns=used_columns_name)\n",
        "\n",
        "f = open('/content/Heart_Disease_Clustering/processed.cleveland.data', 'r')\n",
        "preprocessed_columns_name = {0:'age', 1: 'sex', 2: 'cp', 3: 'trestbps', 4: 'chol', 5: 'fbs', 6: 'restecg', 7: 'thalach', 8: 'exang', 9: 'oldpeak', 10: 'slope', 11: 'ca', 12: 'thal', 13: 'num'}\n",
        "\n",
        "df_preprocessed_cleveland = pd.DataFrame([data.rstrip('\\n').split(',') for data in f.readlines()]).rename(columns=preprocessed_columns_name)\n",
        "\n",
        "df_used_cleveland['num'] = df_preprocessed_cleveland['num']"
      ],
      "execution_count": 6,
      "outputs": []
    },
    {
      "cell_type": "code",
      "metadata": {
        "id": "4LTZHuFVirL2"
      },
      "source": [
        "df_hungarian = pd.DataFrame([data.split() for data in dataset_hungarian])\n",
        "df_used_hungarian = df_hungarian[used_columns].rename(columns=used_columns_name)\n",
        "\n",
        "f = open('/content/Heart_Disease_Clustering/reprocessed.hungarian.data', 'r')\n",
        "df_preprocessed_hungarian = pd.DataFrame([data.rstrip('\\n').split(' ') for data in f.readlines()]).rename(columns=preprocessed_columns_name)\n",
        "\n",
        "df_used_hungarian['num'] = df_preprocessed_hungarian['num']"
      ],
      "execution_count": 7,
      "outputs": []
    },
    {
      "cell_type": "code",
      "metadata": {
        "id": "ueG0LtR8jYLY"
      },
      "source": [
        "df_longbeach = pd.DataFrame([data.split() for data in dataset_longbeach])\n",
        "df_used_longbeach = df_longbeach[used_columns].rename(columns=used_columns_name)\n",
        "\n",
        "f = open('/content/Heart_Disease_Clustering/processed.va.data', 'r')\n",
        "preprocessed_columns_name = {0:'age', 1: 'sex', 2: 'cp', 3: 'trestbps', 4: 'chol', 5: 'fbs', 6: 'restecg', 7: 'thalach', 8: 'exang', 9: 'oldpeak', 10: 'slope', 11: 'ca', 12: 'thal', 13: 'num'}\n",
        "\n",
        "df_preprocessed_longbeach = pd.DataFrame([data.rstrip('\\n').split(',') for data in f.readlines()]).rename(columns=preprocessed_columns_name)\n",
        "df_used_longbeach['num'] = df_preprocessed_longbeach['num']"
      ],
      "execution_count": 8,
      "outputs": []
    },
    {
      "cell_type": "code",
      "metadata": {
        "id": "gCSOmm_Ekz0K"
      },
      "source": [
        "df_switzer = pd.DataFrame([data.split() for data in dataset_switzer])\n",
        "df_used_switzer = df_switzer[used_columns].rename(columns=used_columns_name)\n",
        "\n",
        "f = open('/content/Heart_Disease_Clustering/processed.switzerland.data', 'r')\n",
        "df_preprocessed_switzerland = pd.DataFrame([data.rstrip('\\n').split(',') for data in f.readlines()]).rename(columns=preprocessed_columns_name)\n",
        "\n",
        "df_used_switzerland = df_used_switzer.merge(df_preprocessed_switzerland, how='inner', on=['age', 'trestbps', 'thalach'], suffixes=('','_y'))\n",
        "df_used_switzerland = df_used_switzerland[['id','age','sex','slope','famhist','fbs','painloc','thal','chol','trestbps','exang','thalach','num']]"
      ],
      "execution_count": 9,
      "outputs": []
    },
    {
      "cell_type": "markdown",
      "metadata": {
        "id": "Xg6dn6ZVYb9k"
      },
      "source": [
        "After obtaining each dataframe, append all dataframes into a new dataframe."
      ]
    },
    {
      "cell_type": "code",
      "metadata": {
        "id": "fT-qK1HYjxJ-"
      },
      "source": [
        "df = df_used_cleveland.append([df_used_hungarian, df_used_longbeach, df_used_switzerland]).reset_index(drop=True)"
      ],
      "execution_count": 10,
      "outputs": []
    },
    {
      "cell_type": "code",
      "metadata": {
        "colab": {
          "base_uri": "https://localhost:8080/",
          "height": 423
        },
        "id": "7YTuuGnFkHka",
        "outputId": "b0c10678-ac2e-4b14-8e6c-15abc1bb139e"
      },
      "source": [
        "df"
      ],
      "execution_count": 11,
      "outputs": [
        {
          "output_type": "execute_result",
          "data": {
            "text/html": [
              "<div>\n",
              "<style scoped>\n",
              "    .dataframe tbody tr th:only-of-type {\n",
              "        vertical-align: middle;\n",
              "    }\n",
              "\n",
              "    .dataframe tbody tr th {\n",
              "        vertical-align: top;\n",
              "    }\n",
              "\n",
              "    .dataframe thead th {\n",
              "        text-align: right;\n",
              "    }\n",
              "</style>\n",
              "<table border=\"1\" class=\"dataframe\">\n",
              "  <thead>\n",
              "    <tr style=\"text-align: right;\">\n",
              "      <th></th>\n",
              "      <th>id</th>\n",
              "      <th>age</th>\n",
              "      <th>sex</th>\n",
              "      <th>slope</th>\n",
              "      <th>famhist</th>\n",
              "      <th>fbs</th>\n",
              "      <th>painloc</th>\n",
              "      <th>thal</th>\n",
              "      <th>chol</th>\n",
              "      <th>trestbps</th>\n",
              "      <th>exang</th>\n",
              "      <th>thalach</th>\n",
              "      <th>num</th>\n",
              "    </tr>\n",
              "  </thead>\n",
              "  <tbody>\n",
              "    <tr>\n",
              "      <th>0</th>\n",
              "      <td>1</td>\n",
              "      <td>63</td>\n",
              "      <td>1</td>\n",
              "      <td>3</td>\n",
              "      <td>1</td>\n",
              "      <td>1</td>\n",
              "      <td>-9</td>\n",
              "      <td>6</td>\n",
              "      <td>233</td>\n",
              "      <td>145</td>\n",
              "      <td>0</td>\n",
              "      <td>150</td>\n",
              "      <td>0</td>\n",
              "    </tr>\n",
              "    <tr>\n",
              "      <th>1</th>\n",
              "      <td>2</td>\n",
              "      <td>67</td>\n",
              "      <td>1</td>\n",
              "      <td>2</td>\n",
              "      <td>1</td>\n",
              "      <td>0</td>\n",
              "      <td>-9</td>\n",
              "      <td>3</td>\n",
              "      <td>286</td>\n",
              "      <td>160</td>\n",
              "      <td>1</td>\n",
              "      <td>108</td>\n",
              "      <td>2</td>\n",
              "    </tr>\n",
              "    <tr>\n",
              "      <th>2</th>\n",
              "      <td>3</td>\n",
              "      <td>67</td>\n",
              "      <td>1</td>\n",
              "      <td>2</td>\n",
              "      <td>1</td>\n",
              "      <td>0</td>\n",
              "      <td>-9</td>\n",
              "      <td>7</td>\n",
              "      <td>229</td>\n",
              "      <td>120</td>\n",
              "      <td>1</td>\n",
              "      <td>129</td>\n",
              "      <td>1</td>\n",
              "    </tr>\n",
              "    <tr>\n",
              "      <th>3</th>\n",
              "      <td>4</td>\n",
              "      <td>37</td>\n",
              "      <td>1</td>\n",
              "      <td>3</td>\n",
              "      <td>1</td>\n",
              "      <td>0</td>\n",
              "      <td>-9</td>\n",
              "      <td>3</td>\n",
              "      <td>250</td>\n",
              "      <td>130</td>\n",
              "      <td>0</td>\n",
              "      <td>187</td>\n",
              "      <td>0</td>\n",
              "    </tr>\n",
              "    <tr>\n",
              "      <th>4</th>\n",
              "      <td>6</td>\n",
              "      <td>41</td>\n",
              "      <td>0</td>\n",
              "      <td>1</td>\n",
              "      <td>1</td>\n",
              "      <td>0</td>\n",
              "      <td>-9</td>\n",
              "      <td>3</td>\n",
              "      <td>204</td>\n",
              "      <td>130</td>\n",
              "      <td>0</td>\n",
              "      <td>172</td>\n",
              "      <td>0</td>\n",
              "    </tr>\n",
              "    <tr>\n",
              "      <th>...</th>\n",
              "      <td>...</td>\n",
              "      <td>...</td>\n",
              "      <td>...</td>\n",
              "      <td>...</td>\n",
              "      <td>...</td>\n",
              "      <td>...</td>\n",
              "      <td>...</td>\n",
              "      <td>...</td>\n",
              "      <td>...</td>\n",
              "      <td>...</td>\n",
              "      <td>...</td>\n",
              "      <td>...</td>\n",
              "      <td>...</td>\n",
              "    </tr>\n",
              "    <tr>\n",
              "      <th>892</th>\n",
              "      <td>4070</td>\n",
              "      <td>54</td>\n",
              "      <td>1</td>\n",
              "      <td>2</td>\n",
              "      <td>-9</td>\n",
              "      <td>-9</td>\n",
              "      <td>1</td>\n",
              "      <td>7</td>\n",
              "      <td>0</td>\n",
              "      <td>180</td>\n",
              "      <td>0</td>\n",
              "      <td>150</td>\n",
              "      <td>1</td>\n",
              "    </tr>\n",
              "    <tr>\n",
              "      <th>893</th>\n",
              "      <td>4071</td>\n",
              "      <td>56</td>\n",
              "      <td>1</td>\n",
              "      <td>2</td>\n",
              "      <td>-9</td>\n",
              "      <td>1</td>\n",
              "      <td>1</td>\n",
              "      <td>7</td>\n",
              "      <td>0</td>\n",
              "      <td>125</td>\n",
              "      <td>1</td>\n",
              "      <td>103</td>\n",
              "      <td>3</td>\n",
              "    </tr>\n",
              "    <tr>\n",
              "      <th>894</th>\n",
              "      <td>4072</td>\n",
              "      <td>56</td>\n",
              "      <td>1</td>\n",
              "      <td>2</td>\n",
              "      <td>-9</td>\n",
              "      <td>-9</td>\n",
              "      <td>0</td>\n",
              "      <td>7</td>\n",
              "      <td>0</td>\n",
              "      <td>125</td>\n",
              "      <td>0</td>\n",
              "      <td>98</td>\n",
              "      <td>2</td>\n",
              "    </tr>\n",
              "    <tr>\n",
              "      <th>895</th>\n",
              "      <td>4073</td>\n",
              "      <td>54</td>\n",
              "      <td>1</td>\n",
              "      <td>2</td>\n",
              "      <td>-9</td>\n",
              "      <td>-9</td>\n",
              "      <td>1</td>\n",
              "      <td>7</td>\n",
              "      <td>0</td>\n",
              "      <td>130</td>\n",
              "      <td>1</td>\n",
              "      <td>110</td>\n",
              "      <td>3</td>\n",
              "    </tr>\n",
              "    <tr>\n",
              "      <th>896</th>\n",
              "      <td>4074</td>\n",
              "      <td>66</td>\n",
              "      <td>0</td>\n",
              "      <td>-9</td>\n",
              "      <td>-9</td>\n",
              "      <td>-9</td>\n",
              "      <td>1</td>\n",
              "      <td>7</td>\n",
              "      <td>0</td>\n",
              "      <td>155</td>\n",
              "      <td>0</td>\n",
              "      <td>90</td>\n",
              "      <td>1</td>\n",
              "    </tr>\n",
              "  </tbody>\n",
              "</table>\n",
              "<p>897 rows × 13 columns</p>\n",
              "</div>"
            ],
            "text/plain": [
              "       id age sex slope famhist fbs  ... thal chol trestbps exang thalach num\n",
              "0       1  63   1     3       1   1  ...    6  233      145     0     150   0\n",
              "1       2  67   1     2       1   0  ...    3  286      160     1     108   2\n",
              "2       3  67   1     2       1   0  ...    7  229      120     1     129   1\n",
              "3       4  37   1     3       1   0  ...    3  250      130     0     187   0\n",
              "4       6  41   0     1       1   0  ...    3  204      130     0     172   0\n",
              "..    ...  ..  ..   ...     ...  ..  ...  ...  ...      ...   ...     ...  ..\n",
              "892  4070  54   1     2      -9  -9  ...    7    0      180     0     150   1\n",
              "893  4071  56   1     2      -9   1  ...    7    0      125     1     103   3\n",
              "894  4072  56   1     2      -9  -9  ...    7    0      125     0      98   2\n",
              "895  4073  54   1     2      -9  -9  ...    7    0      130     1     110   3\n",
              "896  4074  66   0    -9      -9  -9  ...    7    0      155     0      90   1\n",
              "\n",
              "[897 rows x 13 columns]"
            ]
          },
          "metadata": {
            "tags": []
          },
          "execution_count": 11
        }
      ]
    },
    {
      "cell_type": "markdown",
      "metadata": {
        "id": "ci_ZLSMfYuLI"
      },
      "source": [
        "# Data Cleaning"
      ]
    },
    {
      "cell_type": "markdown",
      "metadata": {
        "id": "8YtL98yYZJGO"
      },
      "source": [
        "The dataframe has object data type for all features/columns. Change those to integer."
      ]
    },
    {
      "cell_type": "code",
      "metadata": {
        "id": "lvYpqqZrwgSC"
      },
      "source": [
        "df = df.astype('int')"
      ],
      "execution_count": 12,
      "outputs": []
    },
    {
      "cell_type": "markdown",
      "metadata": {
        "id": "MG03cvp1Y4kl"
      },
      "source": [
        "The unknown value is denoted as -9. Therefore, for each column that has -9 value, change that value to other value."
      ]
    },
    {
      "cell_type": "code",
      "metadata": {
        "id": "74wNxhH2r7KR"
      },
      "source": [
        "df['slope'] = df['slope'].replace(-9, 0)      # Replace -9 in slope with 0\n",
        "df['famhist'] = df['famhist'].replace(-9, 2)  # Replace -9 in famhist with 2 (a new category because contains lots of -9 values)\n",
        "df['fbs'] = df['fbs'].replace(-9, 0)          # Replace -9 in fbs with 0\n",
        "df['painloc'] = df['painloc'].replace(-9, 2)  # Replace -9 in painloc with 2 (a new category because contains lots of -9 values)\n",
        "df['thal'] = df['thal'].replace({-9 : 0, 1: 3, 2: 3, 4: 6, 5: 6})  # Replace each category not in 3, 6 and 7 with the nearest category\n",
        "df['chol'] = df['chol'].replace(-9, df['chol'].median())    # Replace -9 in chol with median value of chol\n",
        "df['trestbps'] = df['trestbps'].replace(-9, df['trestbps'].median())    # Replace -9 in trestbps with median value of trestbps\n",
        "df['exang'] = df['exang'].replace(-9, 0)    # Replace -9 in exang with 0\n",
        "df['thalach'] = df['thalach'].replace(-9, df['thalach'].median())   # Replace -9 in thalach with median value of thalach"
      ],
      "execution_count": 13,
      "outputs": []
    },
    {
      "cell_type": "code",
      "metadata": {
        "colab": {
          "base_uri": "https://localhost:8080/",
          "height": 423
        },
        "id": "3D3yU0r1_fJy",
        "outputId": "288bc3a3-8766-4174-a83a-e1d5b7c06067"
      },
      "source": [
        "df"
      ],
      "execution_count": 14,
      "outputs": [
        {
          "output_type": "execute_result",
          "data": {
            "text/html": [
              "<div>\n",
              "<style scoped>\n",
              "    .dataframe tbody tr th:only-of-type {\n",
              "        vertical-align: middle;\n",
              "    }\n",
              "\n",
              "    .dataframe tbody tr th {\n",
              "        vertical-align: top;\n",
              "    }\n",
              "\n",
              "    .dataframe thead th {\n",
              "        text-align: right;\n",
              "    }\n",
              "</style>\n",
              "<table border=\"1\" class=\"dataframe\">\n",
              "  <thead>\n",
              "    <tr style=\"text-align: right;\">\n",
              "      <th></th>\n",
              "      <th>id</th>\n",
              "      <th>age</th>\n",
              "      <th>sex</th>\n",
              "      <th>slope</th>\n",
              "      <th>famhist</th>\n",
              "      <th>fbs</th>\n",
              "      <th>painloc</th>\n",
              "      <th>thal</th>\n",
              "      <th>chol</th>\n",
              "      <th>trestbps</th>\n",
              "      <th>exang</th>\n",
              "      <th>thalach</th>\n",
              "      <th>num</th>\n",
              "    </tr>\n",
              "  </thead>\n",
              "  <tbody>\n",
              "    <tr>\n",
              "      <th>0</th>\n",
              "      <td>1</td>\n",
              "      <td>63</td>\n",
              "      <td>1</td>\n",
              "      <td>3</td>\n",
              "      <td>1</td>\n",
              "      <td>1</td>\n",
              "      <td>2</td>\n",
              "      <td>6</td>\n",
              "      <td>233</td>\n",
              "      <td>145</td>\n",
              "      <td>0</td>\n",
              "      <td>150</td>\n",
              "      <td>0</td>\n",
              "    </tr>\n",
              "    <tr>\n",
              "      <th>1</th>\n",
              "      <td>2</td>\n",
              "      <td>67</td>\n",
              "      <td>1</td>\n",
              "      <td>2</td>\n",
              "      <td>1</td>\n",
              "      <td>0</td>\n",
              "      <td>2</td>\n",
              "      <td>3</td>\n",
              "      <td>286</td>\n",
              "      <td>160</td>\n",
              "      <td>1</td>\n",
              "      <td>108</td>\n",
              "      <td>2</td>\n",
              "    </tr>\n",
              "    <tr>\n",
              "      <th>2</th>\n",
              "      <td>3</td>\n",
              "      <td>67</td>\n",
              "      <td>1</td>\n",
              "      <td>2</td>\n",
              "      <td>1</td>\n",
              "      <td>0</td>\n",
              "      <td>2</td>\n",
              "      <td>7</td>\n",
              "      <td>229</td>\n",
              "      <td>120</td>\n",
              "      <td>1</td>\n",
              "      <td>129</td>\n",
              "      <td>1</td>\n",
              "    </tr>\n",
              "    <tr>\n",
              "      <th>3</th>\n",
              "      <td>4</td>\n",
              "      <td>37</td>\n",
              "      <td>1</td>\n",
              "      <td>3</td>\n",
              "      <td>1</td>\n",
              "      <td>0</td>\n",
              "      <td>2</td>\n",
              "      <td>3</td>\n",
              "      <td>250</td>\n",
              "      <td>130</td>\n",
              "      <td>0</td>\n",
              "      <td>187</td>\n",
              "      <td>0</td>\n",
              "    </tr>\n",
              "    <tr>\n",
              "      <th>4</th>\n",
              "      <td>6</td>\n",
              "      <td>41</td>\n",
              "      <td>0</td>\n",
              "      <td>1</td>\n",
              "      <td>1</td>\n",
              "      <td>0</td>\n",
              "      <td>2</td>\n",
              "      <td>3</td>\n",
              "      <td>204</td>\n",
              "      <td>130</td>\n",
              "      <td>0</td>\n",
              "      <td>172</td>\n",
              "      <td>0</td>\n",
              "    </tr>\n",
              "    <tr>\n",
              "      <th>...</th>\n",
              "      <td>...</td>\n",
              "      <td>...</td>\n",
              "      <td>...</td>\n",
              "      <td>...</td>\n",
              "      <td>...</td>\n",
              "      <td>...</td>\n",
              "      <td>...</td>\n",
              "      <td>...</td>\n",
              "      <td>...</td>\n",
              "      <td>...</td>\n",
              "      <td>...</td>\n",
              "      <td>...</td>\n",
              "      <td>...</td>\n",
              "    </tr>\n",
              "    <tr>\n",
              "      <th>892</th>\n",
              "      <td>4070</td>\n",
              "      <td>54</td>\n",
              "      <td>1</td>\n",
              "      <td>2</td>\n",
              "      <td>2</td>\n",
              "      <td>0</td>\n",
              "      <td>1</td>\n",
              "      <td>7</td>\n",
              "      <td>0</td>\n",
              "      <td>180</td>\n",
              "      <td>0</td>\n",
              "      <td>150</td>\n",
              "      <td>1</td>\n",
              "    </tr>\n",
              "    <tr>\n",
              "      <th>893</th>\n",
              "      <td>4071</td>\n",
              "      <td>56</td>\n",
              "      <td>1</td>\n",
              "      <td>2</td>\n",
              "      <td>2</td>\n",
              "      <td>1</td>\n",
              "      <td>1</td>\n",
              "      <td>7</td>\n",
              "      <td>0</td>\n",
              "      <td>125</td>\n",
              "      <td>1</td>\n",
              "      <td>103</td>\n",
              "      <td>3</td>\n",
              "    </tr>\n",
              "    <tr>\n",
              "      <th>894</th>\n",
              "      <td>4072</td>\n",
              "      <td>56</td>\n",
              "      <td>1</td>\n",
              "      <td>2</td>\n",
              "      <td>2</td>\n",
              "      <td>0</td>\n",
              "      <td>0</td>\n",
              "      <td>7</td>\n",
              "      <td>0</td>\n",
              "      <td>125</td>\n",
              "      <td>0</td>\n",
              "      <td>98</td>\n",
              "      <td>2</td>\n",
              "    </tr>\n",
              "    <tr>\n",
              "      <th>895</th>\n",
              "      <td>4073</td>\n",
              "      <td>54</td>\n",
              "      <td>1</td>\n",
              "      <td>2</td>\n",
              "      <td>2</td>\n",
              "      <td>0</td>\n",
              "      <td>1</td>\n",
              "      <td>7</td>\n",
              "      <td>0</td>\n",
              "      <td>130</td>\n",
              "      <td>1</td>\n",
              "      <td>110</td>\n",
              "      <td>3</td>\n",
              "    </tr>\n",
              "    <tr>\n",
              "      <th>896</th>\n",
              "      <td>4074</td>\n",
              "      <td>66</td>\n",
              "      <td>0</td>\n",
              "      <td>0</td>\n",
              "      <td>2</td>\n",
              "      <td>0</td>\n",
              "      <td>1</td>\n",
              "      <td>7</td>\n",
              "      <td>0</td>\n",
              "      <td>155</td>\n",
              "      <td>0</td>\n",
              "      <td>90</td>\n",
              "      <td>1</td>\n",
              "    </tr>\n",
              "  </tbody>\n",
              "</table>\n",
              "<p>897 rows × 13 columns</p>\n",
              "</div>"
            ],
            "text/plain": [
              "       id  age  sex  slope  famhist  ...  chol  trestbps  exang  thalach  num\n",
              "0       1   63    1      3        1  ...   233       145      0      150    0\n",
              "1       2   67    1      2        1  ...   286       160      1      108    2\n",
              "2       3   67    1      2        1  ...   229       120      1      129    1\n",
              "3       4   37    1      3        1  ...   250       130      0      187    0\n",
              "4       6   41    0      1        1  ...   204       130      0      172    0\n",
              "..    ...  ...  ...    ...      ...  ...   ...       ...    ...      ...  ...\n",
              "892  4070   54    1      2        2  ...     0       180      0      150    1\n",
              "893  4071   56    1      2        2  ...     0       125      1      103    3\n",
              "894  4072   56    1      2        2  ...     0       125      0       98    2\n",
              "895  4073   54    1      2        2  ...     0       130      1      110    3\n",
              "896  4074   66    0      0        2  ...     0       155      0       90    1\n",
              "\n",
              "[897 rows x 13 columns]"
            ]
          },
          "metadata": {
            "tags": []
          },
          "execution_count": 14
        }
      ]
    },
    {
      "cell_type": "markdown",
      "metadata": {
        "id": "h7r5avxWAW78"
      },
      "source": [
        "Change the feature data type to category and integer."
      ]
    },
    {
      "cell_type": "code",
      "metadata": {
        "id": "i97xmk9c_0E3"
      },
      "source": [
        "df[['sex', 'slope', 'famhist', 'fbs', 'painloc', 'thal', 'exang']] = df[['sex', 'slope', 'famhist', 'fbs', 'painloc', 'thal', 'exang']].astype('category')"
      ],
      "execution_count": 15,
      "outputs": []
    },
    {
      "cell_type": "code",
      "metadata": {
        "colab": {
          "base_uri": "https://localhost:8080/"
        },
        "id": "dcDBTWydA0el",
        "outputId": "1338c90b-25af-4ac3-cf4e-9a58a6f2f4e4"
      },
      "source": [
        "df.info()"
      ],
      "execution_count": 16,
      "outputs": [
        {
          "output_type": "stream",
          "text": [
            "<class 'pandas.core.frame.DataFrame'>\n",
            "RangeIndex: 897 entries, 0 to 896\n",
            "Data columns (total 13 columns):\n",
            " #   Column    Non-Null Count  Dtype   \n",
            "---  ------    --------------  -----   \n",
            " 0   id        897 non-null    int64   \n",
            " 1   age       897 non-null    int64   \n",
            " 2   sex       897 non-null    category\n",
            " 3   slope     897 non-null    category\n",
            " 4   famhist   897 non-null    category\n",
            " 5   fbs       897 non-null    category\n",
            " 6   painloc   897 non-null    category\n",
            " 7   thal      897 non-null    category\n",
            " 8   chol      897 non-null    int64   \n",
            " 9   trestbps  897 non-null    int64   \n",
            " 10  exang     897 non-null    category\n",
            " 11  thalach   897 non-null    int64   \n",
            " 12  num       897 non-null    int64   \n",
            "dtypes: category(7), int64(6)\n",
            "memory usage: 49.2 KB\n"
          ],
          "name": "stdout"
        }
      ]
    },
    {
      "cell_type": "markdown",
      "metadata": {
        "id": "cBiiAZqfarc2"
      },
      "source": [
        "Save target value in 'y' and feature values in 'X'."
      ]
    },
    {
      "cell_type": "code",
      "metadata": {
        "id": "aZ5yOYp7Bkx6"
      },
      "source": [
        "X = df.drop(['id', 'num'], axis=1)"
      ],
      "execution_count": 17,
      "outputs": []
    },
    {
      "cell_type": "code",
      "metadata": {
        "id": "ALKsee8vV0Yl"
      },
      "source": [
        "y = df['num'].values"
      ],
      "execution_count": 18,
      "outputs": []
    },
    {
      "cell_type": "markdown",
      "metadata": {
        "id": "SMqquJP-0lRh"
      },
      "source": [
        "# Supervised Learning"
      ]
    },
    {
      "cell_type": "markdown",
      "metadata": {
        "id": "OG4RhUe6a2Dh"
      },
      "source": [
        "Split data into train and test set."
      ]
    },
    {
      "cell_type": "code",
      "metadata": {
        "id": "_lyaa7xf0s2p"
      },
      "source": [
        "X_train, X_test, y_train, y_test = train_test_split(X, y, train_size = 0.8, random_state=42)"
      ],
      "execution_count": 19,
      "outputs": []
    },
    {
      "cell_type": "markdown",
      "metadata": {
        "id": "ZxOkO80wa8Sv"
      },
      "source": [
        "1. KNN"
      ]
    },
    {
      "cell_type": "code",
      "metadata": {
        "colab": {
          "base_uri": "https://localhost:8080/"
        },
        "id": "5RDanPL1ywOB",
        "outputId": "cc13bff3-e28f-4b96-b84b-f89249e3e77d"
      },
      "source": [
        "knn = KNeighborsClassifier(n_neighbors=5)\n",
        "knn.fit(X_train, y_train)"
      ],
      "execution_count": 20,
      "outputs": [
        {
          "output_type": "execute_result",
          "data": {
            "text/plain": [
              "KNeighborsClassifier(algorithm='auto', leaf_size=30, metric='minkowski',\n",
              "                     metric_params=None, n_jobs=None, n_neighbors=5, p=2,\n",
              "                     weights='uniform')"
            ]
          },
          "metadata": {
            "tags": []
          },
          "execution_count": 20
        }
      ]
    },
    {
      "cell_type": "code",
      "metadata": {
        "id": "ZRkyGy4Zy6YV"
      },
      "source": [
        "prediction_knn = knn.predict(X_test)"
      ],
      "execution_count": 21,
      "outputs": []
    },
    {
      "cell_type": "code",
      "metadata": {
        "colab": {
          "base_uri": "https://localhost:8080/"
        },
        "id": "FQYee-rebQ-i",
        "outputId": "7e1cddaf-50e2-4887-b8d5-66614ba9678c"
      },
      "source": [
        "print(classification_report(y_test, prediction_knn))"
      ],
      "execution_count": 22,
      "outputs": [
        {
          "output_type": "stream",
          "text": [
            "              precision    recall  f1-score   support\n",
            "\n",
            "           0       0.61      0.77      0.68        84\n",
            "           1       0.31      0.29      0.30        42\n",
            "           2       0.05      0.05      0.05        20\n",
            "           3       0.46      0.23      0.31        26\n",
            "           4       0.33      0.12      0.18         8\n",
            "\n",
            "    accuracy                           0.47       180\n",
            "   macro avg       0.35      0.29      0.30       180\n",
            "weighted avg       0.45      0.47      0.45       180\n",
            "\n"
          ],
          "name": "stdout"
        }
      ]
    },
    {
      "cell_type": "markdown",
      "metadata": {
        "id": "8BE9gBZ-1SQJ"
      },
      "source": [
        "Try KNN with features that are important."
      ]
    },
    {
      "cell_type": "code",
      "metadata": {
        "colab": {
          "base_uri": "https://localhost:8080/"
        },
        "id": "ifycYJzq1Qoq",
        "outputId": "d51570cf-a695-43ea-d78c-f30a564cdb56"
      },
      "source": [
        "dc = DecisionTreeClassifier()\n",
        "dc.fit(X_train, y_train)\n",
        "\n",
        "importance = dc.feature_importances_\n",
        "for i,v in enumerate(importance):\n",
        "\tprint('Feature: %s, Score: %.5f' % (X_train.columns[int(i)],v))"
      ],
      "execution_count": 23,
      "outputs": [
        {
          "output_type": "stream",
          "text": [
            "Feature: age, Score: 0.16040\n",
            "Feature: sex, Score: 0.03490\n",
            "Feature: slope, Score: 0.04185\n",
            "Feature: famhist, Score: 0.03982\n",
            "Feature: fbs, Score: 0.02991\n",
            "Feature: painloc, Score: 0.01992\n",
            "Feature: thal, Score: 0.05928\n",
            "Feature: chol, Score: 0.22566\n",
            "Feature: trestbps, Score: 0.11813\n",
            "Feature: exang, Score: 0.07894\n",
            "Feature: thalach, Score: 0.19118\n"
          ],
          "name": "stdout"
        }
      ]
    },
    {
      "cell_type": "markdown",
      "metadata": {
        "id": "LsLjSuJVcK_q"
      },
      "source": [
        "Only take the score > 0.05."
      ]
    },
    {
      "cell_type": "code",
      "metadata": {
        "id": "3iY5N4LS18kT"
      },
      "source": [
        "X_train_important = X_train[['age', 'famhist', 'thal', 'chol', 'trestbps', 'exang', 'thalach']]"
      ],
      "execution_count": 24,
      "outputs": []
    },
    {
      "cell_type": "code",
      "metadata": {
        "colab": {
          "base_uri": "https://localhost:8080/"
        },
        "id": "IUDecTaB4gJE",
        "outputId": "f2bfab34-3146-4dfd-9655-549e8389d8a5"
      },
      "source": [
        "knn_1 = KNeighborsClassifier(n_neighbors=5)\n",
        "knn_1.fit(X_train_important, y_train)"
      ],
      "execution_count": 25,
      "outputs": [
        {
          "output_type": "execute_result",
          "data": {
            "text/plain": [
              "KNeighborsClassifier(algorithm='auto', leaf_size=30, metric='minkowski',\n",
              "                     metric_params=None, n_jobs=None, n_neighbors=5, p=2,\n",
              "                     weights='uniform')"
            ]
          },
          "metadata": {
            "tags": []
          },
          "execution_count": 25
        }
      ]
    },
    {
      "cell_type": "code",
      "metadata": {
        "id": "m0JrYwGE5LX3"
      },
      "source": [
        "X_test_important = X_test[['age', 'famhist', 'thal', 'chol', 'trestbps', 'exang', 'thalach']]\n",
        "pred_1 = knn_1.predict(X_test_important)"
      ],
      "execution_count": 26,
      "outputs": []
    },
    {
      "cell_type": "code",
      "metadata": {
        "colab": {
          "base_uri": "https://localhost:8080/"
        },
        "id": "G776K3iY5ToK",
        "outputId": "745444d2-e0c3-4669-daea-d6b88dffe1d0"
      },
      "source": [
        "print(classification_report(y_test, pred_1))"
      ],
      "execution_count": 27,
      "outputs": [
        {
          "output_type": "stream",
          "text": [
            "              precision    recall  f1-score   support\n",
            "\n",
            "           0       0.61      0.77      0.68        84\n",
            "           1       0.31      0.29      0.30        42\n",
            "           2       0.06      0.05      0.05        20\n",
            "           3       0.46      0.23      0.31        26\n",
            "           4       0.33      0.12      0.18         8\n",
            "\n",
            "    accuracy                           0.47       180\n",
            "   macro avg       0.35      0.29      0.30       180\n",
            "weighted avg       0.44      0.47      0.45       180\n",
            "\n"
          ],
          "name": "stdout"
        }
      ]
    },
    {
      "cell_type": "markdown",
      "metadata": {
        "id": "JOsN0GVZ5lC-"
      },
      "source": [
        "2. SVM"
      ]
    },
    {
      "cell_type": "code",
      "metadata": {
        "colab": {
          "base_uri": "https://localhost:8080/"
        },
        "id": "CXWqkwHD5bU1",
        "outputId": "eec69501-e586-4ae2-be1d-fcb909949bfd"
      },
      "source": [
        "svc = SVC()\n",
        "svc.fit(X_train, y_train)\n",
        "\n",
        "pred_svc = svc.predict(X_test)\n",
        "\n",
        "print(classification_report(y_test, pred_svc))"
      ],
      "execution_count": 28,
      "outputs": [
        {
          "output_type": "stream",
          "text": [
            "              precision    recall  f1-score   support\n",
            "\n",
            "           0       0.55      0.94      0.70        84\n",
            "           1       0.51      0.45      0.48        42\n",
            "           2       0.00      0.00      0.00        20\n",
            "           3       0.00      0.00      0.00        26\n",
            "           4       0.00      0.00      0.00         8\n",
            "\n",
            "    accuracy                           0.54       180\n",
            "   macro avg       0.21      0.28      0.24       180\n",
            "weighted avg       0.38      0.54      0.44       180\n",
            "\n"
          ],
          "name": "stdout"
        },
        {
          "output_type": "stream",
          "text": [
            "/usr/local/lib/python3.7/dist-packages/sklearn/metrics/_classification.py:1272: UndefinedMetricWarning: Precision and F-score are ill-defined and being set to 0.0 in labels with no predicted samples. Use `zero_division` parameter to control this behavior.\n",
            "  _warn_prf(average, modifier, msg_start, len(result))\n"
          ],
          "name": "stderr"
        }
      ]
    },
    {
      "cell_type": "markdown",
      "metadata": {
        "id": "n7sJeuXKcgrc"
      },
      "source": [
        "3. Random Forest Classifier"
      ]
    },
    {
      "cell_type": "code",
      "metadata": {
        "colab": {
          "base_uri": "https://localhost:8080/"
        },
        "id": "sf3dPk9I6d0i",
        "outputId": "dfde4c0a-3b89-4560-8e73-7af26dfd2454"
      },
      "source": [
        "rfc = RandomForestClassifier()\n",
        "rfc.fit(X_train, y_train)\n",
        "\n",
        "pred_rfc = rfc.predict(X_test)\n",
        "\n",
        "print(classification_report(y_test, pred_rfc))"
      ],
      "execution_count": 29,
      "outputs": [
        {
          "output_type": "stream",
          "text": [
            "              precision    recall  f1-score   support\n",
            "\n",
            "           0       0.71      0.77      0.74        84\n",
            "           1       0.33      0.31      0.32        42\n",
            "           2       0.19      0.25      0.22        20\n",
            "           3       0.36      0.31      0.33        26\n",
            "           4       0.00      0.00      0.00         8\n",
            "\n",
            "    accuracy                           0.51       180\n",
            "   macro avg       0.32      0.33      0.32       180\n",
            "weighted avg       0.48      0.51      0.49       180\n",
            "\n"
          ],
          "name": "stdout"
        },
        {
          "output_type": "stream",
          "text": [
            "/usr/local/lib/python3.7/dist-packages/sklearn/metrics/_classification.py:1272: UndefinedMetricWarning: Precision and F-score are ill-defined and being set to 0.0 in labels with no predicted samples. Use `zero_division` parameter to control this behavior.\n",
            "  _warn_prf(average, modifier, msg_start, len(result))\n"
          ],
          "name": "stderr"
        }
      ]
    },
    {
      "cell_type": "markdown",
      "metadata": {
        "id": "YXf-k5vVB86v"
      },
      "source": [
        "# Unsupervised"
      ]
    },
    {
      "cell_type": "markdown",
      "metadata": {
        "id": "GnxMsl64czjS"
      },
      "source": [
        "Suppose the 'num' or target feature is unknown."
      ]
    },
    {
      "cell_type": "markdown",
      "metadata": {
        "id": "J_iWJH4bdCf2"
      },
      "source": [
        "Feature reduction is performed to reduce dimension."
      ]
    },
    {
      "cell_type": "markdown",
      "metadata": {
        "id": "7nmNDV03d0jg"
      },
      "source": [
        "1. Two components"
      ]
    },
    {
      "cell_type": "code",
      "metadata": {
        "colab": {
          "base_uri": "https://localhost:8080/"
        },
        "id": "VCaKFcLVBzi5",
        "outputId": "1f33f2dd-d5fb-44ed-c782-13d6f91fa34a"
      },
      "source": [
        "pca = PCA(n_components = 2)\n",
        "X_pca = pca.fit_transform(X)\n",
        "kmeans = KMeans(n_clusters = 5, random_state=42)\n",
        "kmeans.fit(X_pca)"
      ],
      "execution_count": 30,
      "outputs": [
        {
          "output_type": "execute_result",
          "data": {
            "text/plain": [
              "KMeans(algorithm='auto', copy_x=True, init='k-means++', max_iter=300,\n",
              "       n_clusters=5, n_init=10, n_jobs=None, precompute_distances='auto',\n",
              "       random_state=42, tol=0.0001, verbose=0)"
            ]
          },
          "metadata": {
            "tags": []
          },
          "execution_count": 30
        }
      ]
    },
    {
      "cell_type": "code",
      "metadata": {
        "id": "mgbIkUqNWARm"
      },
      "source": [
        "prediction = kmeans.labels_"
      ],
      "execution_count": 31,
      "outputs": []
    },
    {
      "cell_type": "code",
      "metadata": {
        "id": "d2rP91ujEejL",
        "colab": {
          "base_uri": "https://localhost:8080/"
        },
        "outputId": "1d893afe-7046-49a3-a4cc-b86611ffc470"
      },
      "source": [
        "print(classification_report(y, prediction))"
      ],
      "execution_count": 32,
      "outputs": [
        {
          "output_type": "stream",
          "text": [
            "              precision    recall  f1-score   support\n",
            "\n",
            "           0       0.64      0.29      0.40       404\n",
            "           1       0.36      0.32      0.34       191\n",
            "           2       0.12      0.18      0.14       130\n",
            "           3       0.12      0.29      0.17       130\n",
            "           4       0.15      0.07      0.10        42\n",
            "\n",
            "    accuracy                           0.27       897\n",
            "   macro avg       0.28      0.23      0.23       897\n",
            "weighted avg       0.41      0.27      0.30       897\n",
            "\n"
          ],
          "name": "stdout"
        }
      ]
    },
    {
      "cell_type": "code",
      "metadata": {
        "colab": {
          "base_uri": "https://localhost:8080/",
          "height": 336
        },
        "id": "zBMsrYesWJRF",
        "outputId": "0a61edfe-b7c0-4479-b4b8-55e316940514"
      },
      "source": [
        "sns.scatterplot(X_pca[:, 0], X_pca[:, 1], hue=prediction)\n",
        "plt.title('Clusters')\n",
        "plt.legend()\n",
        "plt.show()"
      ],
      "execution_count": 33,
      "outputs": [
        {
          "output_type": "stream",
          "text": [
            "/usr/local/lib/python3.7/dist-packages/seaborn/_decorators.py:43: FutureWarning: Pass the following variables as keyword args: x, y. From version 0.12, the only valid positional argument will be `data`, and passing other arguments without an explicit keyword will result in an error or misinterpretation.\n",
            "  FutureWarning\n"
          ],
          "name": "stderr"
        },
        {
          "output_type": "display_data",
          "data": {
            "image/png": "[encoded data removed]",
            "text/plain": [
              "<Figure size 432x288 with 1 Axes>"
            ]
          },
          "metadata": {
            "tags": [],
            "needs_background": "light"
          }
        }
      ]
    },
    {
      "cell_type": "code",
      "metadata": {
        "colab": {
          "base_uri": "https://localhost:8080/",
          "height": 336
        },
        "id": "aPsKSF2NWQtV",
        "outputId": "9c3cf53e-41c0-4f91-9d0b-43b782334fc7"
      },
      "source": [
        "sns.scatterplot(X_pca[:, 0], X_pca[:, 1], hue=df['num'])\n",
        "plt.title('Real distribution')\n",
        "plt.legend()\n",
        "plt.show()"
      ],
      "execution_count": 34,
      "outputs": [
        {
          "output_type": "stream",
          "text": [
            "/usr/local/lib/python3.7/dist-packages/seaborn/_decorators.py:43: FutureWarning: Pass the following variables as keyword args: x, y. From version 0.12, the only valid positional argument will be `data`, and passing other arguments without an explicit keyword will result in an error or misinterpretation.\n",
            "  FutureWarning\n"
          ],
          "name": "stderr"
        },
        {
          "output_type": "display_data",
          "data": {
            "image/png": "[encoded data removed]",
            "text/plain": [
              "<Figure size 432x288 with 1 Axes>"
            ]
          },
          "metadata": {
            "tags": [],
            "needs_background": "light"
          }
        }
      ]
    },
    {
      "cell_type": "markdown",
      "metadata": {
        "id": "ayxRgEfLdxtO"
      },
      "source": [
        "2. Three components"
      ]
    },
    {
      "cell_type": "code",
      "metadata": {
        "colab": {
          "base_uri": "https://localhost:8080/"
        },
        "id": "Be9_0-itWx_C",
        "outputId": "674d9268-9491-453e-9452-0795d29a4eee"
      },
      "source": [
        "pca_3 = PCA(n_components = 3)\n",
        "X_pca_3 = pca_3.fit_transform(X)\n",
        "kmeans_3 = KMeans(n_clusters = 5, random_state=42)\n",
        "kmeans_3.fit(X_pca_3)"
      ],
      "execution_count": 35,
      "outputs": [
        {
          "output_type": "execute_result",
          "data": {
            "text/plain": [
              "KMeans(algorithm='auto', copy_x=True, init='k-means++', max_iter=300,\n",
              "       n_clusters=5, n_init=10, n_jobs=None, precompute_distances='auto',\n",
              "       random_state=42, tol=0.0001, verbose=0)"
            ]
          },
          "metadata": {
            "tags": []
          },
          "execution_count": 35
        }
      ]
    },
    {
      "cell_type": "code",
      "metadata": {
        "id": "PCRV7MjsW6BP"
      },
      "source": [
        "prediction_3 = kmeans_3.labels_"
      ],
      "execution_count": 36,
      "outputs": []
    },
    {
      "cell_type": "code",
      "metadata": {
        "colab": {
          "base_uri": "https://localhost:8080/"
        },
        "id": "YCFT8oYyd66u",
        "outputId": "b682279b-90f3-4a33-d22c-e1e722c3dde5"
      },
      "source": [
        "print(classification_report(y, prediction_3))"
      ],
      "execution_count": 37,
      "outputs": [
        {
          "output_type": "stream",
          "text": [
            "              precision    recall  f1-score   support\n",
            "\n",
            "           0       0.52      0.40      0.45       404\n",
            "           1       0.36      0.32      0.34       191\n",
            "           2       0.11      0.18      0.14       130\n",
            "           3       0.19      0.03      0.05       130\n",
            "           4       0.03      0.14      0.06        42\n",
            "\n",
            "    accuracy                           0.29       897\n",
            "   macro avg       0.24      0.22      0.21       897\n",
            "weighted avg       0.35      0.29      0.31       897\n",
            "\n"
          ],
          "name": "stdout"
        }
      ]
    },
    {
      "cell_type": "code",
      "metadata": {
        "colab": {
          "base_uri": "https://localhost:8080/",
          "height": 265
        },
        "id": "QhNeSu1GXX_h",
        "outputId": "45f4de87-afef-4c72-f0a3-86badbda92ac"
      },
      "source": [
        "ax = plt.axes(projection='3d')\n",
        "ax.scatter(X_pca_3[:, 0], X_pca_3[:, 1], X_pca_3[:, 2], c=prediction_3, cmap='viridis', linewidth=0.5)"
      ],
      "execution_count": 38,
      "outputs": [
        {
          "output_type": "execute_result",
          "data": {
            "text/plain": [
              "<mpl_toolkits.mplot3d.art3d.Path3DCollection at 0x7f8c28372490>"
            ]
          },
          "metadata": {
            "tags": []
          },
          "execution_count": 38
        },
        {
          "output_type": "display_data",
          "data": {
            "image/png": "[encoded data removed]",
            "text/plain": [
              "<Figure size 432x288 with 1 Axes>"
            ]
          },
          "metadata": {
            "tags": [],
            "needs_background": "light"
          }
        }
      ]
    },
    {
      "cell_type": "code",
      "metadata": {
        "colab": {
          "base_uri": "https://localhost:8080/",
          "height": 265
        },
        "id": "4PR_nZDj-hA7",
        "outputId": "16a74e41-f90e-4644-bb79-d3e5592a4001"
      },
      "source": [
        "ax = plt.axes(projection='3d')\n",
        "ax.scatter(X_pca_3[:, 0], X_pca_3[:, 1], X_pca_3[:, 2], c=df['num'], cmap='viridis', linewidth=0.5)"
      ],
      "execution_count": 39,
      "outputs": [
        {
          "output_type": "execute_result",
          "data": {
            "text/plain": [
              "<mpl_toolkits.mplot3d.art3d.Path3DCollection at 0x7f8c221702d0>"
            ]
          },
          "metadata": {
            "tags": []
          },
          "execution_count": 39
        },
        {
          "output_type": "display_data",
          "data": {
            "image/png": "[encoded data removed]",
            "text/plain": [
              "<Figure size 432x288 with 1 Axes>"
            ]
          },
          "metadata": {
            "tags": [],
            "needs_background": "light"
          }
        }
      ]
    },
    {
      "cell_type": "markdown",
      "metadata": {
        "id": "TkVr5x0Beqen"
      },
      "source": [
        "# Conclusion"
      ]
    },
    {
      "cell_type": "markdown",
      "metadata": {
        "id": "nstQqT9Zd-F5"
      },
      "source": [
        "Best model is KNN, with 0.47 accuracy. The proposed paper has higher accuracy, which is 0.74, 0.84, 0.89.  "
      ]
    }
  ]
}