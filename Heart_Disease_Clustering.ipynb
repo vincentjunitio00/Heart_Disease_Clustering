{
  "nbformat": 4,
  "nbformat_minor": 0,
  "metadata": {
    "colab": {
      "name": "Heart Disease Clustering.ipynb",
      "provenance": [],
      "collapsed_sections": [],
      "authorship_tag": "ABX9TyP9ZhVZDamxQVYt94N/xi6I",
      "include_colab_link": true
    },
    "kernelspec": {
      "name": "python3",
      "display_name": "Python 3"
    },
    "language_info": {
      "name": "python"
    }
  },
  "cells": [
    {
      "cell_type": "markdown",
      "metadata": {
        "id": "view-in-github",
        "colab_type": "text"
      },
      "source": [
        "<a href=\"https://colab.research.google.com/github/vincentjunitio00/Heart_Disease_Clustering/blob/main/Heart_Disease_Clustering.ipynb\" target=\"_parent\"><img src=\"https://colab.research.google.com/assets/colab-badge.svg\" alt=\"Open In Colab\"/></a>"
      ]
    },
    {
      "cell_type": "code",
      "metadata": {
        "id": "KX3q8BWJZbrq"
      },
      "source": [
        "import pandas as pd"
      ],
      "execution_count": 1,
      "outputs": []
    },
    {
      "cell_type": "code",
      "metadata": {
        "colab": {
          "base_uri": "https://localhost:8080/"
        },
        "id": "8tOsf2Q_upa0",
        "outputId": "d1710a86-c661-410f-bf4c-794046ceb7be"
      },
      "source": [
        "!git clone https://github.com/vincentjunitio00/Heart_Disease_Clustering"
      ],
      "execution_count": 4,
      "outputs": [
        {
          "output_type": "stream",
          "text": [
            "Cloning into 'Heart_Disease_Clustering'...\n",
            "remote: Enumerating objects: 20, done.\u001b[K\n",
            "remote: Counting objects:   5% (1/20)\u001b[K\rremote: Counting objects:  10% (2/20)\u001b[K\rremote: Counting objects:  15% (3/20)\u001b[K\rremote: Counting objects:  20% (4/20)\u001b[K\rremote: Counting objects:  25% (5/20)\u001b[K\rremote: Counting objects:  30% (6/20)\u001b[K\rremote: Counting objects:  35% (7/20)\u001b[K\rremote: Counting objects:  40% (8/20)\u001b[K\rremote: Counting objects:  45% (9/20)\u001b[K\rremote: Counting objects:  50% (10/20)\u001b[K\rremote: Counting objects:  55% (11/20)\u001b[K\rremote: Counting objects:  60% (12/20)\u001b[K\rremote: Counting objects:  65% (13/20)\u001b[K\rremote: Counting objects:  70% (14/20)\u001b[K\rremote: Counting objects:  75% (15/20)\u001b[K\rremote: Counting objects:  80% (16/20)\u001b[K\rremote: Counting objects:  85% (17/20)\u001b[K\rremote: Counting objects:  90% (18/20)\u001b[K\rremote: Counting objects:  95% (19/20)\u001b[K\rremote: Counting objects: 100% (20/20)\u001b[K\rremote: Counting objects: 100% (20/20), done.\u001b[K\n",
            "remote: Compressing objects:   5% (1/18)\u001b[K\rremote: Compressing objects:  11% (2/18)\u001b[K\rremote: Compressing objects:  16% (3/18)\u001b[K\rremote: Compressing objects:  22% (4/18)\u001b[K\rremote: Compressing objects:  27% (5/18)\u001b[K\rremote: Compressing objects:  33% (6/18)\u001b[K\rremote: Compressing objects:  38% (7/18)\u001b[K\rremote: Compressing objects:  44% (8/18)\u001b[K\rremote: Compressing objects:  50% (9/18)\u001b[K\rremote: Compressing objects:  55% (10/18)\u001b[K\rremote: Compressing objects:  61% (11/18)\u001b[K\rremote: Compressing objects:  66% (12/18)\u001b[K\rremote: Compressing objects:  72% (13/18)\u001b[K\rremote: Compressing objects:  77% (14/18)\u001b[K\rremote: Compressing objects:  83% (15/18)\u001b[K\rremote: Compressing objects:  88% (16/18)\u001b[K\rremote: Compressing objects:  94% (17/18)\u001b[K\rremote: Compressing objects: 100% (18/18)\u001b[K\rremote: Compressing objects: 100% (18/18), done.\u001b[K\n",
            "Unpacking objects:   5% (1/20)   \rUnpacking objects:  10% (2/20)   \rUnpacking objects:  15% (3/20)   \rUnpacking objects:  20% (4/20)   \rUnpacking objects:  25% (5/20)   \rUnpacking objects:  30% (6/20)   \rUnpacking objects:  35% (7/20)   \rremote: Total 20 (delta 2), reused 0 (delta 0), pack-reused 0\u001b[K\n",
            "Unpacking objects:  40% (8/20)   \rUnpacking objects:  45% (9/20)   \rUnpacking objects:  50% (10/20)   \rUnpacking objects:  55% (11/20)   \rUnpacking objects:  60% (12/20)   \rUnpacking objects:  65% (13/20)   \rUnpacking objects:  70% (14/20)   \rUnpacking objects:  75% (15/20)   \rUnpacking objects:  80% (16/20)   \rUnpacking objects:  85% (17/20)   \rUnpacking objects:  90% (18/20)   \rUnpacking objects:  95% (19/20)   \rUnpacking objects: 100% (20/20)   \rUnpacking objects: 100% (20/20), done.\n"
          ],
          "name": "stdout"
        }
      ]
    },
    {
      "cell_type": "code",
      "metadata": {
        "id": "avsrsJiQ9G1q"
      },
      "source": [
        "def preprocessing(file):\n",
        "  file = open(file, \"r\")\n",
        "\n",
        "  counter = 0\n",
        "  records = ''\n",
        "  dataset = []\n",
        "  for record in file.readlines():\n",
        "    records += record.rstrip('\\n') + ' '\n",
        "    counter += 1\n",
        "    if counter >= 10:\n",
        "      dataset.append(records.rstrip())\n",
        "      records = ''\n",
        "      counter = 0\n",
        "  return dataset"
      ],
      "execution_count": 5,
      "outputs": []
    },
    {
      "cell_type": "code",
      "metadata": {
        "id": "kKX8RR00CvAr"
      },
      "source": [
        "dataset_cleveland = preprocessing('/content/Heart_Disease_Clustering/cleveland.data')\n",
        "dataset_hungarian = preprocessing('/content/Heart_Disease_Clustering/hungarian.data')\n",
        "dataset_longbeach = preprocessing('/content/Heart_Disease_Clustering/long-beach-va.data')\n",
        "dataset_switzer = preprocessing('/content/Heart_Disease_Clustering/switzerland.data')"
      ],
      "execution_count": 6,
      "outputs": []
    },
    {
      "cell_type": "code",
      "metadata": {
        "id": "MJmkewg3bVA4"
      },
      "source": [
        "used_columns = [0, 2, 3, 40, 17, 15, 4, 50, 11, 9, 37, 31]\n",
        "used_columns_name = {0: 'id', 2: 'age', 3: 'sex', 40: 'slope', 17: 'famhist', 15:'fbs', 4:'painloc', 50: 'thal', 11: 'chol', 9: 'trestbps', 37: 'exang', 31: 'thalach'}"
      ],
      "execution_count": 7,
      "outputs": []
    },
    {
      "cell_type": "markdown",
      "metadata": {
        "id": "mTKIM7FEiwlV"
      },
      "source": [
        "# Repeat here"
      ]
    },
    {
      "cell_type": "code",
      "metadata": {
        "id": "rjIOVdwybNRa"
      },
      "source": [
        "df_cleveland = pd.DataFrame([data.split() for data in dataset_cleveland])\n",
        "df_used_cleveland = df_cleveland[used_columns].rename(columns=used_columns_name)\n",
        "\n",
        "f = open('/content/Heart_Disease_Clustering/processed.cleveland.data', 'r')\n",
        "preprocessed_columns_name = {0:'age', 1: 'sex', 2: 'cp', 3: 'trestbps', 4: 'chol', 5: 'fbs', 6: 'restecg', 7: 'thalach', 8: 'exang', 9: 'oldpeak', 10: 'slope', 11: 'ca', 12: 'thal', 13: 'num'}\n",
        "\n",
        "df_preprocessed_cleveland = pd.DataFrame([data.rstrip('\\n').split(',') for data in f.readlines()]).rename(columns=preprocessed_columns_name)\n",
        "\n",
        "df_used_cleveland['num'] = df_preprocessed_cleveland['num']"
      ],
      "execution_count": 8,
      "outputs": []
    },
    {
      "cell_type": "code",
      "metadata": {
        "id": "4LTZHuFVirL2"
      },
      "source": [
        "df_hungarian = pd.DataFrame([data.split() for data in dataset_hungarian])\n",
        "df_used_hungarian = df_hungarian[used_columns].rename(columns=used_columns_name)\n",
        "\n",
        "f = open('/content/Heart_Disease_Clustering/reprocessed.hungarian.data', 'r')\n",
        "df_preprocessed_hungarian = pd.DataFrame([data.rstrip('\\n').split(' ') for data in f.readlines()]).rename(columns=preprocessed_columns_name)\n",
        "\n",
        "df_used_hungarian['num'] = df_preprocessed_hungarian['num']"
      ],
      "execution_count": 9,
      "outputs": []
    },
    {
      "cell_type": "code",
      "metadata": {
        "id": "ueG0LtR8jYLY"
      },
      "source": [
        "df_longbeach = pd.DataFrame([data.split() for data in dataset_longbeach])\n",
        "df_used_longbeach = df_longbeach[used_columns].rename(columns=used_columns_name)\n",
        "\n",
        "f = open('/content/Heart_Disease_Clustering/processed.va.data', 'r')\n",
        "preprocessed_columns_name = {0:'age', 1: 'sex', 2: 'cp', 3: 'trestbps', 4: 'chol', 5: 'fbs', 6: 'restecg', 7: 'thalach', 8: 'exang', 9: 'oldpeak', 10: 'slope', 11: 'ca', 12: 'thal', 13: 'num'}\n",
        "\n",
        "df_preprocessed_longbeach = pd.DataFrame([data.rstrip('\\n').split(',') for data in f.readlines()]).rename(columns=preprocessed_columns_name)\n",
        "df_used_longbeach['num'] = df_preprocessed_longbeach['num']"
      ],
      "execution_count": 10,
      "outputs": []
    },
    {
      "cell_type": "code",
      "metadata": {
        "id": "gCSOmm_Ekz0K"
      },
      "source": [
        "df_switzer = pd.DataFrame([data.split() for data in dataset_switzer])\n",
        "df_used_switzer = df_switzer[used_columns].rename(columns=used_columns_name)\n",
        "\n",
        "f = open('/content/Heart_Disease_Clustering/processed.switzerland.data', 'r')\n",
        "df_preprocessed_switzerland = pd.DataFrame([data.rstrip('\\n').split(',') for data in f.readlines()]).rename(columns=preprocessed_columns_name)\n",
        "\n",
        "df_used_switzerland = df_used_switzer.merge(df_preprocessed_switzerland, how='inner', on=['age', 'trestbps', 'thalach'], suffixes=('','_y'))\n",
        "df_used_switzerland = df_used_switzerland[['id','age','sex','slope','famhist','fbs','painloc','thal','chol','trestbps','exang','thalach','num']]"
      ],
      "execution_count": 11,
      "outputs": []
    },
    {
      "cell_type": "code",
      "metadata": {
        "id": "fT-qK1HYjxJ-"
      },
      "source": [
        "df = df_used_cleveland.append([df_used_hungarian, df_used_longbeach, df_used_switzerland]).reset_index(drop=True)"
      ],
      "execution_count": 63,
      "outputs": []
    },
    {
      "cell_type": "code",
      "metadata": {
        "colab": {
          "base_uri": "https://localhost:8080/",
          "height": 423
        },
        "id": "7YTuuGnFkHka",
        "outputId": "55b10d56-cd18-4961-bcd4-154ca39038b1"
      },
      "source": [
        "df"
      ],
      "execution_count": 64,
      "outputs": [
        {
          "output_type": "execute_result",
          "data": {
            "text/html": [
              "<div>\n",
              "<style scoped>\n",
              "    .dataframe tbody tr th:only-of-type {\n",
              "        vertical-align: middle;\n",
              "    }\n",
              "\n",
              "    .dataframe tbody tr th {\n",
              "        vertical-align: top;\n",
              "    }\n",
              "\n",
              "    .dataframe thead th {\n",
              "        text-align: right;\n",
              "    }\n",
              "</style>\n",
              "<table border=\"1\" class=\"dataframe\">\n",
              "  <thead>\n",
              "    <tr style=\"text-align: right;\">\n",
              "      <th></th>\n",
              "      <th>id</th>\n",
              "      <th>age</th>\n",
              "      <th>sex</th>\n",
              "      <th>slope</th>\n",
              "      <th>famhist</th>\n",
              "      <th>fbs</th>\n",
              "      <th>painloc</th>\n",
              "      <th>thal</th>\n",
              "      <th>chol</th>\n",
              "      <th>trestbps</th>\n",
              "      <th>exang</th>\n",
              "      <th>thalach</th>\n",
              "      <th>num</th>\n",
              "    </tr>\n",
              "  </thead>\n",
              "  <tbody>\n",
              "    <tr>\n",
              "      <th>0</th>\n",
              "      <td>1</td>\n",
              "      <td>63</td>\n",
              "      <td>1</td>\n",
              "      <td>3</td>\n",
              "      <td>1</td>\n",
              "      <td>1</td>\n",
              "      <td>-9</td>\n",
              "      <td>6</td>\n",
              "      <td>233</td>\n",
              "      <td>145</td>\n",
              "      <td>0</td>\n",
              "      <td>150</td>\n",
              "      <td>0</td>\n",
              "    </tr>\n",
              "    <tr>\n",
              "      <th>1</th>\n",
              "      <td>2</td>\n",
              "      <td>67</td>\n",
              "      <td>1</td>\n",
              "      <td>2</td>\n",
              "      <td>1</td>\n",
              "      <td>0</td>\n",
              "      <td>-9</td>\n",
              "      <td>3</td>\n",
              "      <td>286</td>\n",
              "      <td>160</td>\n",
              "      <td>1</td>\n",
              "      <td>108</td>\n",
              "      <td>2</td>\n",
              "    </tr>\n",
              "    <tr>\n",
              "      <th>2</th>\n",
              "      <td>3</td>\n",
              "      <td>67</td>\n",
              "      <td>1</td>\n",
              "      <td>2</td>\n",
              "      <td>1</td>\n",
              "      <td>0</td>\n",
              "      <td>-9</td>\n",
              "      <td>7</td>\n",
              "      <td>229</td>\n",
              "      <td>120</td>\n",
              "      <td>1</td>\n",
              "      <td>129</td>\n",
              "      <td>1</td>\n",
              "    </tr>\n",
              "    <tr>\n",
              "      <th>3</th>\n",
              "      <td>4</td>\n",
              "      <td>37</td>\n",
              "      <td>1</td>\n",
              "      <td>3</td>\n",
              "      <td>1</td>\n",
              "      <td>0</td>\n",
              "      <td>-9</td>\n",
              "      <td>3</td>\n",
              "      <td>250</td>\n",
              "      <td>130</td>\n",
              "      <td>0</td>\n",
              "      <td>187</td>\n",
              "      <td>0</td>\n",
              "    </tr>\n",
              "    <tr>\n",
              "      <th>4</th>\n",
              "      <td>6</td>\n",
              "      <td>41</td>\n",
              "      <td>0</td>\n",
              "      <td>1</td>\n",
              "      <td>1</td>\n",
              "      <td>0</td>\n",
              "      <td>-9</td>\n",
              "      <td>3</td>\n",
              "      <td>204</td>\n",
              "      <td>130</td>\n",
              "      <td>0</td>\n",
              "      <td>172</td>\n",
              "      <td>0</td>\n",
              "    </tr>\n",
              "    <tr>\n",
              "      <th>...</th>\n",
              "      <td>...</td>\n",
              "      <td>...</td>\n",
              "      <td>...</td>\n",
              "      <td>...</td>\n",
              "      <td>...</td>\n",
              "      <td>...</td>\n",
              "      <td>...</td>\n",
              "      <td>...</td>\n",
              "      <td>...</td>\n",
              "      <td>...</td>\n",
              "      <td>...</td>\n",
              "      <td>...</td>\n",
              "      <td>...</td>\n",
              "    </tr>\n",
              "    <tr>\n",
              "      <th>892</th>\n",
              "      <td>4070</td>\n",
              "      <td>54</td>\n",
              "      <td>1</td>\n",
              "      <td>2</td>\n",
              "      <td>-9</td>\n",
              "      <td>-9</td>\n",
              "      <td>1</td>\n",
              "      <td>7</td>\n",
              "      <td>0</td>\n",
              "      <td>180</td>\n",
              "      <td>0</td>\n",
              "      <td>150</td>\n",
              "      <td>1</td>\n",
              "    </tr>\n",
              "    <tr>\n",
              "      <th>893</th>\n",
              "      <td>4071</td>\n",
              "      <td>56</td>\n",
              "      <td>1</td>\n",
              "      <td>2</td>\n",
              "      <td>-9</td>\n",
              "      <td>1</td>\n",
              "      <td>1</td>\n",
              "      <td>7</td>\n",
              "      <td>0</td>\n",
              "      <td>125</td>\n",
              "      <td>1</td>\n",
              "      <td>103</td>\n",
              "      <td>3</td>\n",
              "    </tr>\n",
              "    <tr>\n",
              "      <th>894</th>\n",
              "      <td>4072</td>\n",
              "      <td>56</td>\n",
              "      <td>1</td>\n",
              "      <td>2</td>\n",
              "      <td>-9</td>\n",
              "      <td>-9</td>\n",
              "      <td>0</td>\n",
              "      <td>7</td>\n",
              "      <td>0</td>\n",
              "      <td>125</td>\n",
              "      <td>0</td>\n",
              "      <td>98</td>\n",
              "      <td>2</td>\n",
              "    </tr>\n",
              "    <tr>\n",
              "      <th>895</th>\n",
              "      <td>4073</td>\n",
              "      <td>54</td>\n",
              "      <td>1</td>\n",
              "      <td>2</td>\n",
              "      <td>-9</td>\n",
              "      <td>-9</td>\n",
              "      <td>1</td>\n",
              "      <td>7</td>\n",
              "      <td>0</td>\n",
              "      <td>130</td>\n",
              "      <td>1</td>\n",
              "      <td>110</td>\n",
              "      <td>3</td>\n",
              "    </tr>\n",
              "    <tr>\n",
              "      <th>896</th>\n",
              "      <td>4074</td>\n",
              "      <td>66</td>\n",
              "      <td>0</td>\n",
              "      <td>-9</td>\n",
              "      <td>-9</td>\n",
              "      <td>-9</td>\n",
              "      <td>1</td>\n",
              "      <td>7</td>\n",
              "      <td>0</td>\n",
              "      <td>155</td>\n",
              "      <td>0</td>\n",
              "      <td>90</td>\n",
              "      <td>1</td>\n",
              "    </tr>\n",
              "  </tbody>\n",
              "</table>\n",
              "<p>897 rows × 13 columns</p>\n",
              "</div>"
            ],
            "text/plain": [
              "       id age sex slope famhist fbs  ... thal chol trestbps exang thalach num\n",
              "0       1  63   1     3       1   1  ...    6  233      145     0     150   0\n",
              "1       2  67   1     2       1   0  ...    3  286      160     1     108   2\n",
              "2       3  67   1     2       1   0  ...    7  229      120     1     129   1\n",
              "3       4  37   1     3       1   0  ...    3  250      130     0     187   0\n",
              "4       6  41   0     1       1   0  ...    3  204      130     0     172   0\n",
              "..    ...  ..  ..   ...     ...  ..  ...  ...  ...      ...   ...     ...  ..\n",
              "892  4070  54   1     2      -9  -9  ...    7    0      180     0     150   1\n",
              "893  4071  56   1     2      -9   1  ...    7    0      125     1     103   3\n",
              "894  4072  56   1     2      -9  -9  ...    7    0      125     0      98   2\n",
              "895  4073  54   1     2      -9  -9  ...    7    0      130     1     110   3\n",
              "896  4074  66   0    -9      -9  -9  ...    7    0      155     0      90   1\n",
              "\n",
              "[897 rows x 13 columns]"
            ]
          },
          "metadata": {
            "tags": []
          },
          "execution_count": 64
        }
      ]
    },
    {
      "cell_type": "markdown",
      "metadata": {
        "id": "6NSJUa7lwM9P"
      },
      "source": [
        "Slope (category) -9 ubah jadi 0"
      ]
    },
    {
      "cell_type": "code",
      "metadata": {
        "id": "lvYpqqZrwgSC"
      },
      "source": [
        "df = df.astype('int')"
      ],
      "execution_count": 65,
      "outputs": []
    },
    {
      "cell_type": "code",
      "metadata": {
        "id": "74wNxhH2r7KR"
      },
      "source": [
        "df['slope'] = df['slope'].replace(-9, 0)"
      ],
      "execution_count": 66,
      "outputs": []
    },
    {
      "cell_type": "markdown",
      "metadata": {
        "id": "HXN3_AWuw_sf"
      },
      "source": [
        "Famhist -9 ubah jadi 2 karena tidak tahu -9 mengarah kemana"
      ]
    },
    {
      "cell_type": "code",
      "metadata": {
        "id": "tBdyd-WowcEo"
      },
      "source": [
        "df['famhist'] = df['famhist'].replace(-9, 2)"
      ],
      "execution_count": 67,
      "outputs": []
    },
    {
      "cell_type": "code",
      "metadata": {
        "colab": {
          "base_uri": "https://localhost:8080/"
        },
        "id": "iacGwIwfw8Wy",
        "outputId": "cdeaf91a-248c-4832-f5e3-12d43af3b5fb"
      },
      "source": [
        "df['famhist'].value_counts()"
      ],
      "execution_count": 68,
      "outputs": [
        {
          "output_type": "execute_result",
          "data": {
            "text/plain": [
              "2    420\n",
              "1    269\n",
              "0    208\n",
              "Name: famhist, dtype: int64"
            ]
          },
          "metadata": {
            "tags": []
          },
          "execution_count": 68
        }
      ]
    },
    {
      "cell_type": "markdown",
      "metadata": {
        "id": "Pim5XgvDxUrb"
      },
      "source": [
        "Karena fbs -9 sedikit saja, jadi masuk ke 0"
      ]
    },
    {
      "cell_type": "code",
      "metadata": {
        "id": "sQBkQ0rqxQhl"
      },
      "source": [
        "df['fbs'] = df['fbs'].replace(-9, 0)"
      ],
      "execution_count": 69,
      "outputs": []
    },
    {
      "cell_type": "markdown",
      "metadata": {
        "id": "m_11bVIuxjtb"
      },
      "source": [
        "karena painloc (category) -9 banyak, jadi buat category baru yaitu 2"
      ]
    },
    {
      "cell_type": "code",
      "metadata": {
        "id": "e4tcIo4KxfDd"
      },
      "source": [
        "df['painloc'] = df['painloc'].replace(-9, 2)"
      ],
      "execution_count": 70,
      "outputs": []
    },
    {
      "cell_type": "code",
      "metadata": {
        "colab": {
          "base_uri": "https://localhost:8080/"
        },
        "id": "yOQg0zjJxshr",
        "outputId": "98a111d1-31fd-4145-f7e1-cda94078009a"
      },
      "source": [
        "df['painloc'].value_counts()"
      ],
      "execution_count": 71,
      "outputs": [
        {
          "output_type": "execute_result",
          "data": {
            "text/plain": [
              "1    566\n",
              "2    282\n",
              "0     49\n",
              "Name: painloc, dtype: int64"
            ]
          },
          "metadata": {
            "tags": []
          },
          "execution_count": 71
        }
      ]
    },
    {
      "cell_type": "code",
      "metadata": {
        "id": "LN7Z1wMx6O75"
      },
      "source": [
        "df['thal'] = df['thal'].replace({-9 : 0, 1: 3, 2: 3, 4: 6, 5: 6})"
      ],
      "execution_count": 72,
      "outputs": []
    },
    {
      "cell_type": "code",
      "metadata": {
        "colab": {
          "base_uri": "https://localhost:8080/"
        },
        "id": "eFokpGVz_tsd",
        "outputId": "0ff8815b-9135-4d49-ebb9-fe1d740a655f"
      },
      "source": [
        "df['thal']"
      ],
      "execution_count": 73,
      "outputs": [
        {
          "output_type": "execute_result",
          "data": {
            "text/plain": [
              "0      6\n",
              "1      3\n",
              "2      7\n",
              "3      3\n",
              "4      3\n",
              "      ..\n",
              "892    7\n",
              "893    7\n",
              "894    7\n",
              "895    7\n",
              "896    7\n",
              "Name: thal, Length: 897, dtype: int64"
            ]
          },
          "metadata": {
            "tags": []
          },
          "execution_count": 73
        }
      ]
    },
    {
      "cell_type": "markdown",
      "metadata": {
        "id": "DfFhCxxu-vBv"
      },
      "source": [
        "Replace -9 chol value to chol.median()"
      ]
    },
    {
      "cell_type": "code",
      "metadata": {
        "id": "RmBEU-G06TxL"
      },
      "source": [
        "df['chol'] = df['chol'].replace(-9, df['chol'].median())"
      ],
      "execution_count": 74,
      "outputs": []
    },
    {
      "cell_type": "markdown",
      "metadata": {
        "id": "gTKWOkip_Heg"
      },
      "source": [
        "Replace -9 trestbps value to trestbps.median()"
      ]
    },
    {
      "cell_type": "code",
      "metadata": {
        "id": "ilqh10oK-x_6"
      },
      "source": [
        "df['trestbps'] = df['trestbps'].replace(-9, df['trestbps'].median())"
      ],
      "execution_count": 75,
      "outputs": []
    },
    {
      "cell_type": "markdown",
      "metadata": {
        "id": "MXQwTo4n_UrZ"
      },
      "source": [
        "Karena exang -9 sedikit, jadi ubah ke 0"
      ]
    },
    {
      "cell_type": "code",
      "metadata": {
        "id": "yTvLN0rC_K3W"
      },
      "source": [
        "df['exang'] = df['exang'].replace(-9, 0)"
      ],
      "execution_count": 76,
      "outputs": []
    },
    {
      "cell_type": "markdown",
      "metadata": {
        "id": "4FejrTpT_g9c"
      },
      "source": [
        "ubah -9 thalach jadi median juga"
      ]
    },
    {
      "cell_type": "code",
      "metadata": {
        "id": "j8B48eo__ZnO"
      },
      "source": [
        "df['thalach'] = df['thalach'].replace(-9, df['thalach'].median())"
      ],
      "execution_count": 77,
      "outputs": []
    },
    {
      "cell_type": "code",
      "metadata": {
        "colab": {
          "base_uri": "https://localhost:8080/",
          "height": 423
        },
        "id": "3D3yU0r1_fJy",
        "outputId": "c3ed3919-f9c6-48d2-9f31-cf676de0abf1"
      },
      "source": [
        "df"
      ],
      "execution_count": 78,
      "outputs": [
        {
          "output_type": "execute_result",
          "data": {
            "text/html": [
              "<div>\n",
              "<style scoped>\n",
              "    .dataframe tbody tr th:only-of-type {\n",
              "        vertical-align: middle;\n",
              "    }\n",
              "\n",
              "    .dataframe tbody tr th {\n",
              "        vertical-align: top;\n",
              "    }\n",
              "\n",
              "    .dataframe thead th {\n",
              "        text-align: right;\n",
              "    }\n",
              "</style>\n",
              "<table border=\"1\" class=\"dataframe\">\n",
              "  <thead>\n",
              "    <tr style=\"text-align: right;\">\n",
              "      <th></th>\n",
              "      <th>id</th>\n",
              "      <th>age</th>\n",
              "      <th>sex</th>\n",
              "      <th>slope</th>\n",
              "      <th>famhist</th>\n",
              "      <th>fbs</th>\n",
              "      <th>painloc</th>\n",
              "      <th>thal</th>\n",
              "      <th>chol</th>\n",
              "      <th>trestbps</th>\n",
              "      <th>exang</th>\n",
              "      <th>thalach</th>\n",
              "      <th>num</th>\n",
              "    </tr>\n",
              "  </thead>\n",
              "  <tbody>\n",
              "    <tr>\n",
              "      <th>0</th>\n",
              "      <td>1</td>\n",
              "      <td>63</td>\n",
              "      <td>1</td>\n",
              "      <td>3</td>\n",
              "      <td>1</td>\n",
              "      <td>1</td>\n",
              "      <td>2</td>\n",
              "      <td>6</td>\n",
              "      <td>233</td>\n",
              "      <td>145</td>\n",
              "      <td>0</td>\n",
              "      <td>150</td>\n",
              "      <td>0</td>\n",
              "    </tr>\n",
              "    <tr>\n",
              "      <th>1</th>\n",
              "      <td>2</td>\n",
              "      <td>67</td>\n",
              "      <td>1</td>\n",
              "      <td>2</td>\n",
              "      <td>1</td>\n",
              "      <td>0</td>\n",
              "      <td>2</td>\n",
              "      <td>3</td>\n",
              "      <td>286</td>\n",
              "      <td>160</td>\n",
              "      <td>1</td>\n",
              "      <td>108</td>\n",
              "      <td>2</td>\n",
              "    </tr>\n",
              "    <tr>\n",
              "      <th>2</th>\n",
              "      <td>3</td>\n",
              "      <td>67</td>\n",
              "      <td>1</td>\n",
              "      <td>2</td>\n",
              "      <td>1</td>\n",
              "      <td>0</td>\n",
              "      <td>2</td>\n",
              "      <td>7</td>\n",
              "      <td>229</td>\n",
              "      <td>120</td>\n",
              "      <td>1</td>\n",
              "      <td>129</td>\n",
              "      <td>1</td>\n",
              "    </tr>\n",
              "    <tr>\n",
              "      <th>3</th>\n",
              "      <td>4</td>\n",
              "      <td>37</td>\n",
              "      <td>1</td>\n",
              "      <td>3</td>\n",
              "      <td>1</td>\n",
              "      <td>0</td>\n",
              "      <td>2</td>\n",
              "      <td>3</td>\n",
              "      <td>250</td>\n",
              "      <td>130</td>\n",
              "      <td>0</td>\n",
              "      <td>187</td>\n",
              "      <td>0</td>\n",
              "    </tr>\n",
              "    <tr>\n",
              "      <th>4</th>\n",
              "      <td>6</td>\n",
              "      <td>41</td>\n",
              "      <td>0</td>\n",
              "      <td>1</td>\n",
              "      <td>1</td>\n",
              "      <td>0</td>\n",
              "      <td>2</td>\n",
              "      <td>3</td>\n",
              "      <td>204</td>\n",
              "      <td>130</td>\n",
              "      <td>0</td>\n",
              "      <td>172</td>\n",
              "      <td>0</td>\n",
              "    </tr>\n",
              "    <tr>\n",
              "      <th>...</th>\n",
              "      <td>...</td>\n",
              "      <td>...</td>\n",
              "      <td>...</td>\n",
              "      <td>...</td>\n",
              "      <td>...</td>\n",
              "      <td>...</td>\n",
              "      <td>...</td>\n",
              "      <td>...</td>\n",
              "      <td>...</td>\n",
              "      <td>...</td>\n",
              "      <td>...</td>\n",
              "      <td>...</td>\n",
              "      <td>...</td>\n",
              "    </tr>\n",
              "    <tr>\n",
              "      <th>892</th>\n",
              "      <td>4070</td>\n",
              "      <td>54</td>\n",
              "      <td>1</td>\n",
              "      <td>2</td>\n",
              "      <td>2</td>\n",
              "      <td>0</td>\n",
              "      <td>1</td>\n",
              "      <td>7</td>\n",
              "      <td>0</td>\n",
              "      <td>180</td>\n",
              "      <td>0</td>\n",
              "      <td>150</td>\n",
              "      <td>1</td>\n",
              "    </tr>\n",
              "    <tr>\n",
              "      <th>893</th>\n",
              "      <td>4071</td>\n",
              "      <td>56</td>\n",
              "      <td>1</td>\n",
              "      <td>2</td>\n",
              "      <td>2</td>\n",
              "      <td>1</td>\n",
              "      <td>1</td>\n",
              "      <td>7</td>\n",
              "      <td>0</td>\n",
              "      <td>125</td>\n",
              "      <td>1</td>\n",
              "      <td>103</td>\n",
              "      <td>3</td>\n",
              "    </tr>\n",
              "    <tr>\n",
              "      <th>894</th>\n",
              "      <td>4072</td>\n",
              "      <td>56</td>\n",
              "      <td>1</td>\n",
              "      <td>2</td>\n",
              "      <td>2</td>\n",
              "      <td>0</td>\n",
              "      <td>0</td>\n",
              "      <td>7</td>\n",
              "      <td>0</td>\n",
              "      <td>125</td>\n",
              "      <td>0</td>\n",
              "      <td>98</td>\n",
              "      <td>2</td>\n",
              "    </tr>\n",
              "    <tr>\n",
              "      <th>895</th>\n",
              "      <td>4073</td>\n",
              "      <td>54</td>\n",
              "      <td>1</td>\n",
              "      <td>2</td>\n",
              "      <td>2</td>\n",
              "      <td>0</td>\n",
              "      <td>1</td>\n",
              "      <td>7</td>\n",
              "      <td>0</td>\n",
              "      <td>130</td>\n",
              "      <td>1</td>\n",
              "      <td>110</td>\n",
              "      <td>3</td>\n",
              "    </tr>\n",
              "    <tr>\n",
              "      <th>896</th>\n",
              "      <td>4074</td>\n",
              "      <td>66</td>\n",
              "      <td>0</td>\n",
              "      <td>0</td>\n",
              "      <td>2</td>\n",
              "      <td>0</td>\n",
              "      <td>1</td>\n",
              "      <td>7</td>\n",
              "      <td>0</td>\n",
              "      <td>155</td>\n",
              "      <td>0</td>\n",
              "      <td>90</td>\n",
              "      <td>1</td>\n",
              "    </tr>\n",
              "  </tbody>\n",
              "</table>\n",
              "<p>897 rows × 13 columns</p>\n",
              "</div>"
            ],
            "text/plain": [
              "       id  age  sex  slope  famhist  ...  chol  trestbps  exang  thalach  num\n",
              "0       1   63    1      3        1  ...   233       145      0      150    0\n",
              "1       2   67    1      2        1  ...   286       160      1      108    2\n",
              "2       3   67    1      2        1  ...   229       120      1      129    1\n",
              "3       4   37    1      3        1  ...   250       130      0      187    0\n",
              "4       6   41    0      1        1  ...   204       130      0      172    0\n",
              "..    ...  ...  ...    ...      ...  ...   ...       ...    ...      ...  ...\n",
              "892  4070   54    1      2        2  ...     0       180      0      150    1\n",
              "893  4071   56    1      2        2  ...     0       125      1      103    3\n",
              "894  4072   56    1      2        2  ...     0       125      0       98    2\n",
              "895  4073   54    1      2        2  ...     0       130      1      110    3\n",
              "896  4074   66    0      0        2  ...     0       155      0       90    1\n",
              "\n",
              "[897 rows x 13 columns]"
            ]
          },
          "metadata": {
            "tags": []
          },
          "execution_count": 78
        }
      ]
    },
    {
      "cell_type": "markdown",
      "metadata": {
        "id": "h7r5avxWAW78"
      },
      "source": [
        "ubah ke category"
      ]
    },
    {
      "cell_type": "code",
      "metadata": {
        "id": "i97xmk9c_0E3"
      },
      "source": [
        "df[['sex', 'slope', 'famhist', 'fbs', 'painloc', 'thal', 'exang']] = df[['sex', 'slope', 'famhist', 'fbs', 'painloc', 'thal', 'exang']].astype('category')"
      ],
      "execution_count": 83,
      "outputs": []
    },
    {
      "cell_type": "code",
      "metadata": {
        "colab": {
          "base_uri": "https://localhost:8080/"
        },
        "id": "dcDBTWydA0el",
        "outputId": "aa731ed3-91e3-4bd5-84c1-58eaf4098b78"
      },
      "source": [
        "df.info()"
      ],
      "execution_count": 84,
      "outputs": [
        {
          "output_type": "stream",
          "text": [
            "<class 'pandas.core.frame.DataFrame'>\n",
            "RangeIndex: 897 entries, 0 to 896\n",
            "Data columns (total 13 columns):\n",
            " #   Column    Non-Null Count  Dtype   \n",
            "---  ------    --------------  -----   \n",
            " 0   id        897 non-null    int64   \n",
            " 1   age       897 non-null    int64   \n",
            " 2   sex       897 non-null    category\n",
            " 3   slope     897 non-null    category\n",
            " 4   famhist   897 non-null    category\n",
            " 5   fbs       897 non-null    category\n",
            " 6   painloc   897 non-null    category\n",
            " 7   thal      897 non-null    category\n",
            " 8   chol      897 non-null    int64   \n",
            " 9   trestbps  897 non-null    int64   \n",
            " 10  exang     897 non-null    category\n",
            " 11  thalach   897 non-null    int64   \n",
            " 12  num       897 non-null    int64   \n",
            "dtypes: category(7), int64(6)\n",
            "memory usage: 49.2 KB\n"
          ],
          "name": "stdout"
        }
      ]
    },
    {
      "cell_type": "code",
      "metadata": {
        "id": "aZ5yOYp7Bkx6"
      },
      "source": [
        "X = df.drop(['id', 'num'], axis=1)"
      ],
      "execution_count": 198,
      "outputs": []
    },
    {
      "cell_type": "code",
      "metadata": {
        "id": "ALKsee8vV0Yl"
      },
      "source": [
        "y = df['num'].values"
      ],
      "execution_count": 199,
      "outputs": []
    },
    {
      "cell_type": "markdown",
      "metadata": {
        "id": "YXf-k5vVB86v"
      },
      "source": [
        "First Method"
      ]
    },
    {
      "cell_type": "code",
      "metadata": {
        "colab": {
          "base_uri": "https://localhost:8080/"
        },
        "id": "VCaKFcLVBzi5",
        "outputId": "b1d4259b-082e-40cb-90b4-2be1b0e26279"
      },
      "source": [
        "from sklearn.decomposition import PCA\n",
        "from sklearn.cluster import KMeans\n",
        "\n",
        "pca = PCA(n_components = 2)\n",
        "X_pca = pca.fit_transform(X)\n",
        "kmeans = KMeans(n_clusters = 5, random_state=42)\n",
        "kmeans.fit(X_pca)"
      ],
      "execution_count": 200,
      "outputs": [
        {
          "output_type": "execute_result",
          "data": {
            "text/plain": [
              "KMeans(algorithm='auto', copy_x=True, init='k-means++', max_iter=300,\n",
              "       n_clusters=5, n_init=10, n_jobs=None, precompute_distances='auto',\n",
              "       random_state=42, tol=0.0001, verbose=0)"
            ]
          },
          "metadata": {
            "tags": []
          },
          "execution_count": 200
        }
      ]
    },
    {
      "cell_type": "code",
      "metadata": {
        "id": "mgbIkUqNWARm"
      },
      "source": [
        "prediction = kmeans.labels_"
      ],
      "execution_count": 202,
      "outputs": []
    },
    {
      "cell_type": "code",
      "metadata": {
        "id": "d2rP91ujEejL"
      },
      "source": [
        "import seaborn as sns"
      ],
      "execution_count": 142,
      "outputs": []
    },
    {
      "cell_type": "code",
      "metadata": {
        "colab": {
          "base_uri": "https://localhost:8080/",
          "height": 337
        },
        "id": "zBMsrYesWJRF",
        "outputId": "7e294884-6ddb-426a-ab8e-613a3aa8c04f"
      },
      "source": [
        "sns.scatterplot(X_pca[:, 0], X_pca[:, 1], hue=prediction)\n",
        "plt.legend()"
      ],
      "execution_count": 203,
      "outputs": [
        {
          "output_type": "stream",
          "text": [
            "/usr/local/lib/python3.7/dist-packages/seaborn/_decorators.py:43: FutureWarning: Pass the following variables as keyword args: x, y. From version 0.12, the only valid positional argument will be `data`, and passing other arguments without an explicit keyword will result in an error or misinterpretation.\n",
            "  FutureWarning\n"
          ],
          "name": "stderr"
        },
        {
          "output_type": "execute_result",
          "data": {
            "text/plain": [
              "<matplotlib.legend.Legend at 0x7f4da54b1b50>"
            ]
          },
          "metadata": {
            "tags": []
          },
          "execution_count": 203
        },
        {
          "output_type": "display_data",
          "data": {
            "image/png": "[encoded data removed]",
            "text/plain": [
              "<Figure size 432x288 with 1 Axes>"
            ]
          },
          "metadata": {
            "tags": [],
            "needs_background": "light"
          }
        }
      ]
    },
    {
      "cell_type": "code",
      "metadata": {
        "colab": {
          "base_uri": "https://localhost:8080/",
          "height": 337
        },
        "id": "aPsKSF2NWQtV",
        "outputId": "9a397813-4fd4-4b10-cbf0-60639b64b1a2"
      },
      "source": [
        "sns.scatterplot(X_pca[:, 0], X_pca[:, 1], df['num'])\n",
        "plt.legend()"
      ],
      "execution_count": 205,
      "outputs": [
        {
          "output_type": "stream",
          "text": [
            "/usr/local/lib/python3.7/dist-packages/seaborn/_decorators.py:43: FutureWarning: Pass the following variables as keyword args: x, y, hue. From version 0.12, the only valid positional argument will be `data`, and passing other arguments without an explicit keyword will result in an error or misinterpretation.\n",
            "  FutureWarning\n"
          ],
          "name": "stderr"
        },
        {
          "output_type": "execute_result",
          "data": {
            "text/plain": [
              "<matplotlib.legend.Legend at 0x7f4da53c6b50>"
            ]
          },
          "metadata": {
            "tags": []
          },
          "execution_count": 205
        },
        {
          "output_type": "display_data",
          "data": {
            "image/png": "[encoded data removed]",
            "text/plain": [
              "<Figure size 432x288 with 1 Axes>"
            ]
          },
          "metadata": {
            "tags": [],
            "needs_background": "light"
          }
        }
      ]
    },
    {
      "cell_type": "code",
      "metadata": {
        "colab": {
          "base_uri": "https://localhost:8080/"
        },
        "id": "HXVn5c7QWZz2",
        "outputId": "7937175f-3547-49ea-8174-0b0d94947ce0"
      },
      "source": [
        "from sklearn.metrics import confusion_matrix, accuracy_score, recall_score, precision_score\n",
        "\n",
        "print(confusion_matrix(df['num'].values, prediction))\n",
        "print(accuracy_score(df['num'].values, prediction))\n",
        "print(recall_score(df['num'].values, prediction, average='macro'))\n",
        "print(precision_score(df['num'].values, prediction, average='macro'))"
      ],
      "execution_count": 234,
      "outputs": [
        {
          "output_type": "stream",
          "text": [
            "[[118  21  92 165   8]\n",
            " [ 31  62  39  58   1]\n",
            " [ 11  46  24  44   5]\n",
            " [ 16  36  37  38   3]\n",
            " [  7   6  14  12   3]]\n",
            "0.2731326644370123\n",
            "0.2330076372230745\n",
            "0.2787521027976471\n"
          ],
          "name": "stdout"
        }
      ]
    },
    {
      "cell_type": "code",
      "metadata": {
        "colab": {
          "base_uri": "https://localhost:8080/"
        },
        "id": "Be9_0-itWx_C",
        "outputId": "d9eadf85-edc9-4d1a-8031-02f480b4be3c"
      },
      "source": [
        "pca_3 = PCA(n_components = 3)\n",
        "X_pca_3 = pca_3.fit_transform(X)\n",
        "kmeans_3 = KMeans(n_clusters = 5, random_state=42)\n",
        "kmeans_3.fit(X_pca_3)"
      ],
      "execution_count": 216,
      "outputs": [
        {
          "output_type": "execute_result",
          "data": {
            "text/plain": [
              "KMeans(algorithm='auto', copy_x=True, init='k-means++', max_iter=300,\n",
              "       n_clusters=5, n_init=10, n_jobs=None, precompute_distances='auto',\n",
              "       random_state=42, tol=0.0001, verbose=0)"
            ]
          },
          "metadata": {
            "tags": []
          },
          "execution_count": 216
        }
      ]
    },
    {
      "cell_type": "code",
      "metadata": {
        "id": "PCRV7MjsW6BP"
      },
      "source": [
        "prediction_3 = kmeans_3.labels_"
      ],
      "execution_count": 218,
      "outputs": []
    },
    {
      "cell_type": "code",
      "metadata": {
        "colab": {
          "base_uri": "https://localhost:8080/",
          "height": 265
        },
        "id": "QhNeSu1GXX_h",
        "outputId": "7125d4be-5e6d-4022-fb4d-031d90bfa1a3"
      },
      "source": [
        "ax = plt.axes(projection='3d')\n",
        "ax.scatter(X_pca_3[:, 0], X_pca_3[:, 1], X_pca_3[:, 2], c=prediction_3, cmap='viridis', linewidth=0.5)"
      ],
      "execution_count": 224,
      "outputs": [
        {
          "output_type": "execute_result",
          "data": {
            "text/plain": [
              "<mpl_toolkits.mplot3d.art3d.Path3DCollection at 0x7f4da4f825d0>"
            ]
          },
          "metadata": {
            "tags": []
          },
          "execution_count": 224
        },
        {
          "output_type": "display_data",
          "data": {
            "image/png": "[encoded data removed]",
            "text/plain": [
              "<Figure size 432x288 with 1 Axes>"
            ]
          },
          "metadata": {
            "tags": [],
            "needs_background": "light"
          }
        }
      ]
    },
    {
      "cell_type": "code",
      "metadata": {
        "colab": {
          "base_uri": "https://localhost:8080/"
        },
        "id": "K0Cqn4YCXfgG",
        "outputId": "b5052661-7577-437a-a14a-6825a97f7983"
      },
      "source": [
        "kmeans_elkan = KMeans(n_clusters = 5, random_state=42, algorithm='elkan')\n",
        "kmeans_elkan.fit(X_pca)"
      ],
      "execution_count": 226,
      "outputs": [
        {
          "output_type": "execute_result",
          "data": {
            "text/plain": [
              "KMeans(algorithm='elkan', copy_x=True, init='k-means++', max_iter=300,\n",
              "       n_clusters=5, n_init=10, n_jobs=None, precompute_distances='auto',\n",
              "       random_state=42, tol=0.0001, verbose=0)"
            ]
          },
          "metadata": {
            "tags": []
          },
          "execution_count": 226
        }
      ]
    },
    {
      "cell_type": "code",
      "metadata": {
        "id": "7cbMQZFAaUOr"
      },
      "source": [
        "prediction_elkan = kmeans_elkan.labels_"
      ],
      "execution_count": 227,
      "outputs": []
    },
    {
      "cell_type": "code",
      "metadata": {
        "colab": {
          "base_uri": "https://localhost:8080/"
        },
        "id": "di1SswD0abUy",
        "outputId": "af63c666-d6aa-4b75-8569-da7267054d89"
      },
      "source": [
        "print(confusion_matrix(df['num'].values, prediction_elkan))\n",
        "print(accuracy_score(df['num'].values, prediction_elkan))\n",
        "print(recall_score(df['num'].values, prediction_elkan, average='micro'))\n",
        "print(precision_score(df['num'].values, prediction_elkan, average='micro'))"
      ],
      "execution_count": 231,
      "outputs": [
        {
          "output_type": "stream",
          "text": [
            "[[118  21  92 165   8]\n",
            " [ 31  62  39  58   1]\n",
            " [ 11  46  24  44   5]\n",
            " [ 16  36  37  38   3]\n",
            " [  7   6  14  12   3]]\n",
            "0.2731326644370123\n",
            "0.2731326644370123\n",
            "0.2731326644370123\n"
          ],
          "name": "stdout"
        }
      ]
    },
    {
      "cell_type": "code",
      "metadata": {
        "colab": {
          "base_uri": "https://localhost:8080/"
        },
        "id": "VcLTtg8pcgwz",
        "outputId": "0cd14573-0705-43e2-98ab-7f672502b63f"
      },
      "source": [
        "kmeans_full = KMeans(n_clusters = 5, random_state=42, algorithm='full')\n",
        "kmeans_full.fit(X_pca)"
      ],
      "execution_count": 232,
      "outputs": [
        {
          "output_type": "execute_result",
          "data": {
            "text/plain": [
              "KMeans(algorithm='full', copy_x=True, init='k-means++', max_iter=300,\n",
              "       n_clusters=5, n_init=10, n_jobs=None, precompute_distances='auto',\n",
              "       random_state=42, tol=0.0001, verbose=0)"
            ]
          },
          "metadata": {
            "tags": []
          },
          "execution_count": 232
        }
      ]
    },
    {
      "cell_type": "code",
      "metadata": {
        "colab": {
          "base_uri": "https://localhost:8080/"
        },
        "id": "2BW8_WQGcp4S",
        "outputId": "43c905ce-da4b-4f78-af66-bd27d3fdf18d"
      },
      "source": [
        "prediction_full = kmeans_full.labels_\n",
        "\n",
        "print(confusion_matrix(df['num'].values, prediction_full))\n",
        "print(accuracy_score(df['num'].values, prediction_full))\n",
        "print(recall_score(df['num'].values, prediction_full, average='micro'))\n",
        "print(precision_score(df['num'].values, prediction_full, average='micro'))"
      ],
      "execution_count": 233,
      "outputs": [
        {
          "output_type": "stream",
          "text": [
            "[[118  21  92 165   8]\n",
            " [ 31  62  39  58   1]\n",
            " [ 11  46  24  44   5]\n",
            " [ 16  36  37  38   3]\n",
            " [  7   6  14  12   3]]\n",
            "0.2731326644370123\n",
            "0.2731326644370123\n",
            "0.2731326644370123\n"
          ],
          "name": "stdout"
        }
      ]
    }
  ]
}