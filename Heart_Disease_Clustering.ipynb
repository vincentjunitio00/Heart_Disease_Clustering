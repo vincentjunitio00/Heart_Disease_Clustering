{
  "nbformat": 4,
  "nbformat_minor": 0,
  "metadata": {
    "colab": {
      "name": "Heart Disease Clustering.ipynb",
      "provenance": [],
      "collapsed_sections": [],
      "authorship_tag": "ABX9TyPkY+gTmXAObW9JC0DQdyJQ",
      "include_colab_link": true
    },
    "kernelspec": {
      "name": "python3",
      "display_name": "Python 3"
    },
    "language_info": {
      "name": "python"
    }
  },
  "cells": [
    {
      "cell_type": "markdown",
      "metadata": {
        "id": "view-in-github",
        "colab_type": "text"
      },
      "source": [
        "<a href=\"https://colab.research.google.com/github/vincentjunitio00/Heart_Disease_Clustering/blob/main/Heart_Disease_Clustering.ipynb\" target=\"_parent\"><img src=\"https://colab.research.google.com/assets/colab-badge.svg\" alt=\"Open In Colab\"/></a>"
      ]
    },
    {
      "cell_type": "code",
      "metadata": {
        "id": "KX3q8BWJZbrq"
      },
      "source": [
        "import pandas as pd"
      ],
      "execution_count": 1,
      "outputs": []
    },
    {
      "cell_type": "code",
      "metadata": {
        "colab": {
          "base_uri": "https://localhost:8080/"
        },
        "id": "8tOsf2Q_upa0",
        "outputId": "d1710a86-c661-410f-bf4c-794046ceb7be"
      },
      "source": [
        "!git clone https://github.com/vincentjunitio00/Heart_Disease_Clustering"
      ],
      "execution_count": 4,
      "outputs": [
        {
          "output_type": "stream",
          "text": [
            "Cloning into 'Heart_Disease_Clustering'...\n",
            "remote: Enumerating objects: 20, done.\u001b[K\n",
            "remote: Counting objects:   5% (1/20)\u001b[K\rremote: Counting objects:  10% (2/20)\u001b[K\rremote: Counting objects:  15% (3/20)\u001b[K\rremote: Counting objects:  20% (4/20)\u001b[K\rremote: Counting objects:  25% (5/20)\u001b[K\rremote: Counting objects:  30% (6/20)\u001b[K\rremote: Counting objects:  35% (7/20)\u001b[K\rremote: Counting objects:  40% (8/20)\u001b[K\rremote: Counting objects:  45% (9/20)\u001b[K\rremote: Counting objects:  50% (10/20)\u001b[K\rremote: Counting objects:  55% (11/20)\u001b[K\rremote: Counting objects:  60% (12/20)\u001b[K\rremote: Counting objects:  65% (13/20)\u001b[K\rremote: Counting objects:  70% (14/20)\u001b[K\rremote: Counting objects:  75% (15/20)\u001b[K\rremote: Counting objects:  80% (16/20)\u001b[K\rremote: Counting objects:  85% (17/20)\u001b[K\rremote: Counting objects:  90% (18/20)\u001b[K\rremote: Counting objects:  95% (19/20)\u001b[K\rremote: Counting objects: 100% (20/20)\u001b[K\rremote: Counting objects: 100% (20/20), done.\u001b[K\n",
            "remote: Compressing objects:   5% (1/18)\u001b[K\rremote: Compressing objects:  11% (2/18)\u001b[K\rremote: Compressing objects:  16% (3/18)\u001b[K\rremote: Compressing objects:  22% (4/18)\u001b[K\rremote: Compressing objects:  27% (5/18)\u001b[K\rremote: Compressing objects:  33% (6/18)\u001b[K\rremote: Compressing objects:  38% (7/18)\u001b[K\rremote: Compressing objects:  44% (8/18)\u001b[K\rremote: Compressing objects:  50% (9/18)\u001b[K\rremote: Compressing objects:  55% (10/18)\u001b[K\rremote: Compressing objects:  61% (11/18)\u001b[K\rremote: Compressing objects:  66% (12/18)\u001b[K\rremote: Compressing objects:  72% (13/18)\u001b[K\rremote: Compressing objects:  77% (14/18)\u001b[K\rremote: Compressing objects:  83% (15/18)\u001b[K\rremote: Compressing objects:  88% (16/18)\u001b[K\rremote: Compressing objects:  94% (17/18)\u001b[K\rremote: Compressing objects: 100% (18/18)\u001b[K\rremote: Compressing objects: 100% (18/18), done.\u001b[K\n",
            "Unpacking objects:   5% (1/20)   \rUnpacking objects:  10% (2/20)   \rUnpacking objects:  15% (3/20)   \rUnpacking objects:  20% (4/20)   \rUnpacking objects:  25% (5/20)   \rUnpacking objects:  30% (6/20)   \rUnpacking objects:  35% (7/20)   \rremote: Total 20 (delta 2), reused 0 (delta 0), pack-reused 0\u001b[K\n",
            "Unpacking objects:  40% (8/20)   \rUnpacking objects:  45% (9/20)   \rUnpacking objects:  50% (10/20)   \rUnpacking objects:  55% (11/20)   \rUnpacking objects:  60% (12/20)   \rUnpacking objects:  65% (13/20)   \rUnpacking objects:  70% (14/20)   \rUnpacking objects:  75% (15/20)   \rUnpacking objects:  80% (16/20)   \rUnpacking objects:  85% (17/20)   \rUnpacking objects:  90% (18/20)   \rUnpacking objects:  95% (19/20)   \rUnpacking objects: 100% (20/20)   \rUnpacking objects: 100% (20/20), done.\n"
          ],
          "name": "stdout"
        }
      ]
    },
    {
      "cell_type": "code",
      "metadata": {
        "id": "avsrsJiQ9G1q"
      },
      "source": [
        "def preprocessing(file):\n",
        "  file = open(file, \"r\")\n",
        "\n",
        "  counter = 0\n",
        "  records = ''\n",
        "  dataset = []\n",
        "  for record in file.readlines():\n",
        "    records += record.rstrip('\\n') + ' '\n",
        "    counter += 1\n",
        "    if counter >= 10:\n",
        "      dataset.append(records.rstrip())\n",
        "      records = ''\n",
        "      counter = 0\n",
        "  return dataset"
      ],
      "execution_count": 5,
      "outputs": []
    },
    {
      "cell_type": "code",
      "metadata": {
        "id": "kKX8RR00CvAr"
      },
      "source": [
        "dataset_cleveland = preprocessing('/content/Heart_Disease_Clustering/cleveland.data')\n",
        "dataset_hungarian = preprocessing('/content/Heart_Disease_Clustering/hungarian.data')\n",
        "dataset_longbeach = preprocessing('/content/Heart_Disease_Clustering/long-beach-va.data')\n",
        "dataset_switzer = preprocessing('/content/Heart_Disease_Clustering/switzerland.data')"
      ],
      "execution_count": 6,
      "outputs": []
    },
    {
      "cell_type": "code",
      "metadata": {
        "id": "MJmkewg3bVA4"
      },
      "source": [
        "used_columns = [0, 2, 3, 40, 17, 15, 4, 50, 11, 9, 37, 31]\n",
        "used_columns_name = {0: 'id', 2: 'age', 3: 'sex', 40: 'slope', 17: 'famhist', 15:'fbs', 4:'painloc', 50: 'thal', 11: 'chol', 9: 'trestbps', 37: 'exang', 31: 'thalach'}"
      ],
      "execution_count": 7,
      "outputs": []
    },
    {
      "cell_type": "markdown",
      "metadata": {
        "id": "mTKIM7FEiwlV"
      },
      "source": [
        "# Repeat here"
      ]
    },
    {
      "cell_type": "code",
      "metadata": {
        "id": "rjIOVdwybNRa"
      },
      "source": [
        "df_cleveland = pd.DataFrame([data.split() for data in dataset_cleveland])\n",
        "df_used_cleveland = df_cleveland[used_columns].rename(columns=used_columns_name)\n",
        "\n",
        "f = open('/content/Heart_Disease_Clustering/processed.cleveland.data', 'r')\n",
        "preprocessed_columns_name = {0:'age', 1: 'sex', 2: 'cp', 3: 'trestbps', 4: 'chol', 5: 'fbs', 6: 'restecg', 7: 'thalach', 8: 'exang', 9: 'oldpeak', 10: 'slope', 11: 'ca', 12: 'thal', 13: 'num'}\n",
        "\n",
        "df_preprocessed_cleveland = pd.DataFrame([data.rstrip('\\n').split(',') for data in f.readlines()]).rename(columns=preprocessed_columns_name)\n",
        "\n",
        "df_used_cleveland['num'] = df_preprocessed_cleveland['num']"
      ],
      "execution_count": 8,
      "outputs": []
    },
    {
      "cell_type": "code",
      "metadata": {
        "id": "4LTZHuFVirL2"
      },
      "source": [
        "df_hungarian = pd.DataFrame([data.split() for data in dataset_hungarian])\n",
        "df_used_hungarian = df_hungarian[used_columns].rename(columns=used_columns_name)\n",
        "\n",
        "f = open('/content/Heart_Disease_Clustering/reprocessed.hungarian.data', 'r')\n",
        "df_preprocessed_hungarian = pd.DataFrame([data.rstrip('\\n').split(' ') for data in f.readlines()]).rename(columns=preprocessed_columns_name)\n",
        "\n",
        "df_used_hungarian['num'] = df_preprocessed_hungarian['num']"
      ],
      "execution_count": 9,
      "outputs": []
    },
    {
      "cell_type": "code",
      "metadata": {
        "id": "ueG0LtR8jYLY"
      },
      "source": [
        "df_longbeach = pd.DataFrame([data.split() for data in dataset_longbeach])\n",
        "df_used_longbeach = df_longbeach[used_columns].rename(columns=used_columns_name)\n",
        "\n",
        "f = open('/content/Heart_Disease_Clustering/processed.va.data', 'r')\n",
        "preprocessed_columns_name = {0:'age', 1: 'sex', 2: 'cp', 3: 'trestbps', 4: 'chol', 5: 'fbs', 6: 'restecg', 7: 'thalach', 8: 'exang', 9: 'oldpeak', 10: 'slope', 11: 'ca', 12: 'thal', 13: 'num'}\n",
        "\n",
        "df_preprocessed_longbeach = pd.DataFrame([data.rstrip('\\n').split(',') for data in f.readlines()]).rename(columns=preprocessed_columns_name)\n",
        "df_used_longbeach['num'] = df_preprocessed_longbeach['num']"
      ],
      "execution_count": 10,
      "outputs": []
    },
    {
      "cell_type": "code",
      "metadata": {
        "id": "gCSOmm_Ekz0K"
      },
      "source": [
        "df_switzer = pd.DataFrame([data.split() for data in dataset_switzer])\n",
        "df_used_switzer = df_switzer[used_columns].rename(columns=used_columns_name)\n",
        "\n",
        "f = open('/content/Heart_Disease_Clustering/processed.switzerland.data', 'r')\n",
        "df_preprocessed_switzerland = pd.DataFrame([data.rstrip('\\n').split(',') for data in f.readlines()]).rename(columns=preprocessed_columns_name)\n",
        "\n",
        "df_used_switzerland = df_used_switzer.merge(df_preprocessed_switzerland, how='inner', on=['age', 'trestbps', 'thalach'], suffixes=('','_y'))\n",
        "df_used_switzerland = df_used_switzerland[['id','age','sex','slope','famhist','fbs','painloc','thal','chol','trestbps','exang','thalach','num']]"
      ],
      "execution_count": 11,
      "outputs": []
    },
    {
      "cell_type": "code",
      "metadata": {
        "id": "fT-qK1HYjxJ-"
      },
      "source": [
        "df = df_used_cleveland.append([df_used_hungarian, df_used_longbeach, df_used_switzerland]).reset_index(drop=True)"
      ],
      "execution_count": 12,
      "outputs": []
    },
    {
      "cell_type": "code",
      "metadata": {
        "colab": {
          "base_uri": "https://localhost:8080/",
          "height": 423
        },
        "id": "7YTuuGnFkHka",
        "outputId": "223e833c-fc1d-4c35-a05f-c2592720f3f1"
      },
      "source": [
        "df"
      ],
      "execution_count": 13,
      "outputs": [
        {
          "output_type": "execute_result",
          "data": {
            "text/html": [
              "<div>\n",
              "<style scoped>\n",
              "    .dataframe tbody tr th:only-of-type {\n",
              "        vertical-align: middle;\n",
              "    }\n",
              "\n",
              "    .dataframe tbody tr th {\n",
              "        vertical-align: top;\n",
              "    }\n",
              "\n",
              "    .dataframe thead th {\n",
              "        text-align: right;\n",
              "    }\n",
              "</style>\n",
              "<table border=\"1\" class=\"dataframe\">\n",
              "  <thead>\n",
              "    <tr style=\"text-align: right;\">\n",
              "      <th></th>\n",
              "      <th>id</th>\n",
              "      <th>age</th>\n",
              "      <th>sex</th>\n",
              "      <th>slope</th>\n",
              "      <th>famhist</th>\n",
              "      <th>fbs</th>\n",
              "      <th>painloc</th>\n",
              "      <th>thal</th>\n",
              "      <th>chol</th>\n",
              "      <th>trestbps</th>\n",
              "      <th>exang</th>\n",
              "      <th>thalach</th>\n",
              "      <th>num</th>\n",
              "    </tr>\n",
              "  </thead>\n",
              "  <tbody>\n",
              "    <tr>\n",
              "      <th>0</th>\n",
              "      <td>1</td>\n",
              "      <td>63</td>\n",
              "      <td>1</td>\n",
              "      <td>3</td>\n",
              "      <td>1</td>\n",
              "      <td>1</td>\n",
              "      <td>-9</td>\n",
              "      <td>6</td>\n",
              "      <td>233</td>\n",
              "      <td>145</td>\n",
              "      <td>0</td>\n",
              "      <td>150</td>\n",
              "      <td>0</td>\n",
              "    </tr>\n",
              "    <tr>\n",
              "      <th>1</th>\n",
              "      <td>2</td>\n",
              "      <td>67</td>\n",
              "      <td>1</td>\n",
              "      <td>2</td>\n",
              "      <td>1</td>\n",
              "      <td>0</td>\n",
              "      <td>-9</td>\n",
              "      <td>3</td>\n",
              "      <td>286</td>\n",
              "      <td>160</td>\n",
              "      <td>1</td>\n",
              "      <td>108</td>\n",
              "      <td>2</td>\n",
              "    </tr>\n",
              "    <tr>\n",
              "      <th>2</th>\n",
              "      <td>3</td>\n",
              "      <td>67</td>\n",
              "      <td>1</td>\n",
              "      <td>2</td>\n",
              "      <td>1</td>\n",
              "      <td>0</td>\n",
              "      <td>-9</td>\n",
              "      <td>7</td>\n",
              "      <td>229</td>\n",
              "      <td>120</td>\n",
              "      <td>1</td>\n",
              "      <td>129</td>\n",
              "      <td>1</td>\n",
              "    </tr>\n",
              "    <tr>\n",
              "      <th>3</th>\n",
              "      <td>4</td>\n",
              "      <td>37</td>\n",
              "      <td>1</td>\n",
              "      <td>3</td>\n",
              "      <td>1</td>\n",
              "      <td>0</td>\n",
              "      <td>-9</td>\n",
              "      <td>3</td>\n",
              "      <td>250</td>\n",
              "      <td>130</td>\n",
              "      <td>0</td>\n",
              "      <td>187</td>\n",
              "      <td>0</td>\n",
              "    </tr>\n",
              "    <tr>\n",
              "      <th>4</th>\n",
              "      <td>6</td>\n",
              "      <td>41</td>\n",
              "      <td>0</td>\n",
              "      <td>1</td>\n",
              "      <td>1</td>\n",
              "      <td>0</td>\n",
              "      <td>-9</td>\n",
              "      <td>3</td>\n",
              "      <td>204</td>\n",
              "      <td>130</td>\n",
              "      <td>0</td>\n",
              "      <td>172</td>\n",
              "      <td>0</td>\n",
              "    </tr>\n",
              "    <tr>\n",
              "      <th>...</th>\n",
              "      <td>...</td>\n",
              "      <td>...</td>\n",
              "      <td>...</td>\n",
              "      <td>...</td>\n",
              "      <td>...</td>\n",
              "      <td>...</td>\n",
              "      <td>...</td>\n",
              "      <td>...</td>\n",
              "      <td>...</td>\n",
              "      <td>...</td>\n",
              "      <td>...</td>\n",
              "      <td>...</td>\n",
              "      <td>...</td>\n",
              "    </tr>\n",
              "    <tr>\n",
              "      <th>892</th>\n",
              "      <td>4070</td>\n",
              "      <td>54</td>\n",
              "      <td>1</td>\n",
              "      <td>2</td>\n",
              "      <td>-9</td>\n",
              "      <td>-9</td>\n",
              "      <td>1</td>\n",
              "      <td>7</td>\n",
              "      <td>0</td>\n",
              "      <td>180</td>\n",
              "      <td>0</td>\n",
              "      <td>150</td>\n",
              "      <td>1</td>\n",
              "    </tr>\n",
              "    <tr>\n",
              "      <th>893</th>\n",
              "      <td>4071</td>\n",
              "      <td>56</td>\n",
              "      <td>1</td>\n",
              "      <td>2</td>\n",
              "      <td>-9</td>\n",
              "      <td>1</td>\n",
              "      <td>1</td>\n",
              "      <td>7</td>\n",
              "      <td>0</td>\n",
              "      <td>125</td>\n",
              "      <td>1</td>\n",
              "      <td>103</td>\n",
              "      <td>3</td>\n",
              "    </tr>\n",
              "    <tr>\n",
              "      <th>894</th>\n",
              "      <td>4072</td>\n",
              "      <td>56</td>\n",
              "      <td>1</td>\n",
              "      <td>2</td>\n",
              "      <td>-9</td>\n",
              "      <td>-9</td>\n",
              "      <td>0</td>\n",
              "      <td>7</td>\n",
              "      <td>0</td>\n",
              "      <td>125</td>\n",
              "      <td>0</td>\n",
              "      <td>98</td>\n",
              "      <td>2</td>\n",
              "    </tr>\n",
              "    <tr>\n",
              "      <th>895</th>\n",
              "      <td>4073</td>\n",
              "      <td>54</td>\n",
              "      <td>1</td>\n",
              "      <td>2</td>\n",
              "      <td>-9</td>\n",
              "      <td>-9</td>\n",
              "      <td>1</td>\n",
              "      <td>7</td>\n",
              "      <td>0</td>\n",
              "      <td>130</td>\n",
              "      <td>1</td>\n",
              "      <td>110</td>\n",
              "      <td>3</td>\n",
              "    </tr>\n",
              "    <tr>\n",
              "      <th>896</th>\n",
              "      <td>4074</td>\n",
              "      <td>66</td>\n",
              "      <td>0</td>\n",
              "      <td>-9</td>\n",
              "      <td>-9</td>\n",
              "      <td>-9</td>\n",
              "      <td>1</td>\n",
              "      <td>7</td>\n",
              "      <td>0</td>\n",
              "      <td>155</td>\n",
              "      <td>0</td>\n",
              "      <td>90</td>\n",
              "      <td>1</td>\n",
              "    </tr>\n",
              "  </tbody>\n",
              "</table>\n",
              "<p>897 rows × 13 columns</p>\n",
              "</div>"
            ],
            "text/plain": [
              "       id age sex slope famhist fbs  ... thal chol trestbps exang thalach num\n",
              "0       1  63   1     3       1   1  ...    6  233      145     0     150   0\n",
              "1       2  67   1     2       1   0  ...    3  286      160     1     108   2\n",
              "2       3  67   1     2       1   0  ...    7  229      120     1     129   1\n",
              "3       4  37   1     3       1   0  ...    3  250      130     0     187   0\n",
              "4       6  41   0     1       1   0  ...    3  204      130     0     172   0\n",
              "..    ...  ..  ..   ...     ...  ..  ...  ...  ...      ...   ...     ...  ..\n",
              "892  4070  54   1     2      -9  -9  ...    7    0      180     0     150   1\n",
              "893  4071  56   1     2      -9   1  ...    7    0      125     1     103   3\n",
              "894  4072  56   1     2      -9  -9  ...    7    0      125     0      98   2\n",
              "895  4073  54   1     2      -9  -9  ...    7    0      130     1     110   3\n",
              "896  4074  66   0    -9      -9  -9  ...    7    0      155     0      90   1\n",
              "\n",
              "[897 rows x 13 columns]"
            ]
          },
          "metadata": {
            "tags": []
          },
          "execution_count": 13
        }
      ]
    },
    {
      "cell_type": "code",
      "metadata": {
        "id": "74wNxhH2r7KR"
      },
      "source": [
        ""
      ],
      "execution_count": null,
      "outputs": []
    }
  ]
}